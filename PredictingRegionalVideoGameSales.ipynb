{
  "nbformat": 4,
  "nbformat_minor": 0,
  "metadata": {
    "colab": {
      "name": "Untitled0.ipynb",
      "provenance": [],
      "collapsed_sections": [],
      "toc_visible": true
    },
    "kernelspec": {
      "name": "python3",
      "display_name": "Python 3"
    },
    "language_info": {
      "name": "python"
    }
  },
  "cells": [
    {
      "cell_type": "markdown",
      "source": [
        "<h1> Title: Predicting Regional Video Game Sales</h2>\n",
        "<h2>Authors:</h2> \n",
        "\n",
        "<ul style=\"list-style-type:none\">\n",
        "  <li>Aimen Altaiyeb</li>\n",
        "  <li>James Meaden</li>\n",
        "  <li>Josiah Sanchez</li>\n",
        "  <li>Kevin Daill</li>\n",
        "  <li>Nathan Huvan</li>\n",
        "</ul>  \n",
        "\n",
        "<h2> <b>Introduction</b></h2>\n",
        "\n",
        "<p>We will predict the sales for a video game in one region based\n",
        "on the sales from the other regions. </p>\n",
        "\n",
        "<h2> <b>Selection Of Data:</b></h2>\n",
        "\n",
        "<p>Video Game Sales with Ratings, downloaded from Kaggle:<br>\n",
        "<a href=\"https://www.kaggle.com/datasets/rush4ratio/video-game-sales-with-ratings\">\n",
        "    https://www.kaggle.com/datasets/rush4ratio/video-game-sales-with-ratings</a><br> The dataset contains sixteen different feature such as: the name of the game, the platform,\n",
        "and the publisher just to name a few. Our report will focus on the genre and\n",
        "sales features.</p>\n",
        "\n",
        "<h2>Goal:</h2>\n",
        "\n",
        "<p>To help video game companies determine what location they can expect favorable sales results based on salse data from other regions.</p>\n",
        "\n",
        "<h2>Features:</h2>\n",
        "<p>There are sixteen different features, of the sixteen our report will focus on the\n",
        "following features:\n",
        "<ul>\n",
        "    <li>Genre</li>\n",
        "    <li>NA_Sales</li>\n",
        "    <li>EU_Sales</li>\n",
        "    <li>JP_Sales</li>\n",
        "    <li>Other_Sales</li>\n",
        "    <li>Global_Sales</li>\n",
        "</ul>\n",
        "</p>\n",
        "\n",
        "<h2><b>Methods:</b></h2>\n",
        "<p>Tools:</p>\n",
        "<ul>\n",
        "\t<li>Numpy, Pandas, Matplotlib, scipy.stats, and Seaborn for data analysis and visualization</li>\n",
        "\t<li>sklearn.model_selection, sklearn.preprocessing, and sklearn.neighbors to implement KNN and Linear Regression</li>\n",
        "\t<li>Used Google Colab connected to Git</li>\n",
        "</ul>\n",
        "<p>Inference methods:</p>\n",
        "<ul>\n",
        "\t<li>Used KNN and Linear Regression to get the MSE and RMSE to predict sales in Countries\n",
        "</li>\n",
        "</ul>\n",
        "\n"
      ],
      "metadata": {
        "id": "0X-yHc1r_GiQ"
      }
    },
    {
      "cell_type": "markdown",
      "source": [
        "# New Section"
      ],
      "metadata": {
        "id": "EHryEzZVb1vm"
      }
    },
    {
      "cell_type": "code",
      "execution_count": null,
      "metadata": {
        "id": "zyebef7tX2G3"
      },
      "outputs": [],
      "source": [
        "import numpy as np\n",
        "import pandas as pd\n",
        "import matplotlib.pyplot as plt\n",
        "from scipy.stats import zscore\n",
        "import matplotlib.pyplot as plt\n",
        "from matplotlib import rcParams\n",
        "import seaborn as sns\n",
        "from sklearn.model_selection import train_test_split\n",
        "from sklearn.preprocessing import StandardScaler\n",
        "from sklearn.neighbors import KNeighborsRegressor\n",
        "from sklearn.linear_model import LinearRegression\n",
        "import scipy.stats\n",
        "import math\n",
        "\n",
        "df = pd.read_csv(\"https://raw.githubusercontent.com/nhuven/cst383/main/Video_Games_Sales_as_at_22_Dec_2016.csv\")"
      ]
    },
    {
      "cell_type": "markdown",
      "source": [
        "<h1>Data Exploration</h1>\n"
      ],
      "metadata": {
        "id": "vG1h6cT7NWF6"
      }
    },
    {
      "cell_type": "markdown",
      "source": [
        "There are several columns related to sales as well as details about genres, publishers, and critic scores.\n",
        "\n",
        "Many of the critic score columns appear to be missing data. This may result in those columns being excluded from the models."
      ],
      "metadata": {
        "id": "2GUABYNVgqqI"
      }
    },
    {
      "cell_type": "code",
      "source": [
        "df.info()"
      ],
      "metadata": {
        "colab": {
          "base_uri": "https://localhost:8080/"
        },
        "id": "K120LtTRgnwJ",
        "outputId": "d6c4f97b-7cbb-4857-8981-6964ffc8300c"
      },
      "execution_count": null,
      "outputs": [
        {
          "output_type": "stream",
          "name": "stdout",
          "text": [
            "<class 'pandas.core.frame.DataFrame'>\n",
            "RangeIndex: 16719 entries, 0 to 16718\n",
            "Data columns (total 16 columns):\n",
            " #   Column           Non-Null Count  Dtype  \n",
            "---  ------           --------------  -----  \n",
            " 0   Name             16717 non-null  object \n",
            " 1   Platform         16719 non-null  object \n",
            " 2   Year_of_Release  16450 non-null  float64\n",
            " 3   Genre            16717 non-null  object \n",
            " 4   Publisher        16665 non-null  object \n",
            " 5   NA_Sales         16719 non-null  float64\n",
            " 6   EU_Sales         16719 non-null  float64\n",
            " 7   JP_Sales         16719 non-null  float64\n",
            " 8   Other_Sales      16719 non-null  float64\n",
            " 9   Global_Sales     16719 non-null  float64\n",
            " 10  Critic_Score     8137 non-null   float64\n",
            " 11  Critic_Count     8137 non-null   float64\n",
            " 12  User_Score       10015 non-null  object \n",
            " 13  User_Count       7590 non-null   float64\n",
            " 14  Developer        10096 non-null  object \n",
            " 15  Rating           9950 non-null   object \n",
            "dtypes: float64(9), object(7)\n",
            "memory usage: 2.0+ MB\n"
          ]
        }
      ]
    },
    {
      "cell_type": "markdown",
      "source": [
        "Taking a look at some of the rows it appears we have a mix of both categorical and numerical data. \n",
        "\n",
        "It is possible we will need to convert some of the categorical data into numerical in order to use it in the models."
      ],
      "metadata": {
        "id": "qw8khVYDhUXJ"
      }
    },
    {
      "cell_type": "code",
      "source": [
        "df.head()"
      ],
      "metadata": {
        "colab": {
          "base_uri": "https://localhost:8080/",
          "height": 336
        },
        "id": "leKXDxu5hQWi",
        "outputId": "b1b7caf5-19b9-4fdc-ae2a-6b58ac0f21b0"
      },
      "execution_count": null,
      "outputs": [
        {
          "output_type": "execute_result",
          "data": {
            "text/plain": [
              "                       Name Platform  Year_of_Release         Genre Publisher  \\\n",
              "0                Wii Sports      Wii           2006.0        Sports  Nintendo   \n",
              "1         Super Mario Bros.      NES           1985.0      Platform  Nintendo   \n",
              "2            Mario Kart Wii      Wii           2008.0        Racing  Nintendo   \n",
              "3         Wii Sports Resort      Wii           2009.0        Sports  Nintendo   \n",
              "4  Pokemon Red/Pokemon Blue       GB           1996.0  Role-Playing  Nintendo   \n",
              "\n",
              "   NA_Sales  EU_Sales  JP_Sales  Other_Sales  Global_Sales  Critic_Score  \\\n",
              "0     41.36     28.96      3.77         8.45         82.53          76.0   \n",
              "1     29.08      3.58      6.81         0.77         40.24           NaN   \n",
              "2     15.68     12.76      3.79         3.29         35.52          82.0   \n",
              "3     15.61     10.93      3.28         2.95         32.77          80.0   \n",
              "4     11.27      8.89     10.22         1.00         31.37           NaN   \n",
              "\n",
              "   Critic_Count User_Score  User_Count Developer Rating  \n",
              "0          51.0          8       322.0  Nintendo      E  \n",
              "1           NaN        NaN         NaN       NaN    NaN  \n",
              "2          73.0        8.3       709.0  Nintendo      E  \n",
              "3          73.0          8       192.0  Nintendo      E  \n",
              "4           NaN        NaN         NaN       NaN    NaN  "
            ],
            "text/html": [
              "\n",
              "  <div id=\"df-8a120540-489d-4ad2-a0ed-84816fcf010c\">\n",
              "    <div class=\"colab-df-container\">\n",
              "      <div>\n",
              "<style scoped>\n",
              "    .dataframe tbody tr th:only-of-type {\n",
              "        vertical-align: middle;\n",
              "    }\n",
              "\n",
              "    .dataframe tbody tr th {\n",
              "        vertical-align: top;\n",
              "    }\n",
              "\n",
              "    .dataframe thead th {\n",
              "        text-align: right;\n",
              "    }\n",
              "</style>\n",
              "<table border=\"1\" class=\"dataframe\">\n",
              "  <thead>\n",
              "    <tr style=\"text-align: right;\">\n",
              "      <th></th>\n",
              "      <th>Name</th>\n",
              "      <th>Platform</th>\n",
              "      <th>Year_of_Release</th>\n",
              "      <th>Genre</th>\n",
              "      <th>Publisher</th>\n",
              "      <th>NA_Sales</th>\n",
              "      <th>EU_Sales</th>\n",
              "      <th>JP_Sales</th>\n",
              "      <th>Other_Sales</th>\n",
              "      <th>Global_Sales</th>\n",
              "      <th>Critic_Score</th>\n",
              "      <th>Critic_Count</th>\n",
              "      <th>User_Score</th>\n",
              "      <th>User_Count</th>\n",
              "      <th>Developer</th>\n",
              "      <th>Rating</th>\n",
              "    </tr>\n",
              "  </thead>\n",
              "  <tbody>\n",
              "    <tr>\n",
              "      <th>0</th>\n",
              "      <td>Wii Sports</td>\n",
              "      <td>Wii</td>\n",
              "      <td>2006.0</td>\n",
              "      <td>Sports</td>\n",
              "      <td>Nintendo</td>\n",
              "      <td>41.36</td>\n",
              "      <td>28.96</td>\n",
              "      <td>3.77</td>\n",
              "      <td>8.45</td>\n",
              "      <td>82.53</td>\n",
              "      <td>76.0</td>\n",
              "      <td>51.0</td>\n",
              "      <td>8</td>\n",
              "      <td>322.0</td>\n",
              "      <td>Nintendo</td>\n",
              "      <td>E</td>\n",
              "    </tr>\n",
              "    <tr>\n",
              "      <th>1</th>\n",
              "      <td>Super Mario Bros.</td>\n",
              "      <td>NES</td>\n",
              "      <td>1985.0</td>\n",
              "      <td>Platform</td>\n",
              "      <td>Nintendo</td>\n",
              "      <td>29.08</td>\n",
              "      <td>3.58</td>\n",
              "      <td>6.81</td>\n",
              "      <td>0.77</td>\n",
              "      <td>40.24</td>\n",
              "      <td>NaN</td>\n",
              "      <td>NaN</td>\n",
              "      <td>NaN</td>\n",
              "      <td>NaN</td>\n",
              "      <td>NaN</td>\n",
              "      <td>NaN</td>\n",
              "    </tr>\n",
              "    <tr>\n",
              "      <th>2</th>\n",
              "      <td>Mario Kart Wii</td>\n",
              "      <td>Wii</td>\n",
              "      <td>2008.0</td>\n",
              "      <td>Racing</td>\n",
              "      <td>Nintendo</td>\n",
              "      <td>15.68</td>\n",
              "      <td>12.76</td>\n",
              "      <td>3.79</td>\n",
              "      <td>3.29</td>\n",
              "      <td>35.52</td>\n",
              "      <td>82.0</td>\n",
              "      <td>73.0</td>\n",
              "      <td>8.3</td>\n",
              "      <td>709.0</td>\n",
              "      <td>Nintendo</td>\n",
              "      <td>E</td>\n",
              "    </tr>\n",
              "    <tr>\n",
              "      <th>3</th>\n",
              "      <td>Wii Sports Resort</td>\n",
              "      <td>Wii</td>\n",
              "      <td>2009.0</td>\n",
              "      <td>Sports</td>\n",
              "      <td>Nintendo</td>\n",
              "      <td>15.61</td>\n",
              "      <td>10.93</td>\n",
              "      <td>3.28</td>\n",
              "      <td>2.95</td>\n",
              "      <td>32.77</td>\n",
              "      <td>80.0</td>\n",
              "      <td>73.0</td>\n",
              "      <td>8</td>\n",
              "      <td>192.0</td>\n",
              "      <td>Nintendo</td>\n",
              "      <td>E</td>\n",
              "    </tr>\n",
              "    <tr>\n",
              "      <th>4</th>\n",
              "      <td>Pokemon Red/Pokemon Blue</td>\n",
              "      <td>GB</td>\n",
              "      <td>1996.0</td>\n",
              "      <td>Role-Playing</td>\n",
              "      <td>Nintendo</td>\n",
              "      <td>11.27</td>\n",
              "      <td>8.89</td>\n",
              "      <td>10.22</td>\n",
              "      <td>1.00</td>\n",
              "      <td>31.37</td>\n",
              "      <td>NaN</td>\n",
              "      <td>NaN</td>\n",
              "      <td>NaN</td>\n",
              "      <td>NaN</td>\n",
              "      <td>NaN</td>\n",
              "      <td>NaN</td>\n",
              "    </tr>\n",
              "  </tbody>\n",
              "</table>\n",
              "</div>\n",
              "      <button class=\"colab-df-convert\" onclick=\"convertToInteractive('df-8a120540-489d-4ad2-a0ed-84816fcf010c')\"\n",
              "              title=\"Convert this dataframe to an interactive table.\"\n",
              "              style=\"display:none;\">\n",
              "        \n",
              "  <svg xmlns=\"http://www.w3.org/2000/svg\" height=\"24px\"viewBox=\"0 0 24 24\"\n",
              "       width=\"24px\">\n",
              "    <path d=\"M0 0h24v24H0V0z\" fill=\"none\"/>\n",
              "    <path d=\"M18.56 5.44l.94 2.06.94-2.06 2.06-.94-2.06-.94-.94-2.06-.94 2.06-2.06.94zm-11 1L8.5 8.5l.94-2.06 2.06-.94-2.06-.94L8.5 2.5l-.94 2.06-2.06.94zm10 10l.94 2.06.94-2.06 2.06-.94-2.06-.94-.94-2.06-.94 2.06-2.06.94z\"/><path d=\"M17.41 7.96l-1.37-1.37c-.4-.4-.92-.59-1.43-.59-.52 0-1.04.2-1.43.59L10.3 9.45l-7.72 7.72c-.78.78-.78 2.05 0 2.83L4 21.41c.39.39.9.59 1.41.59.51 0 1.02-.2 1.41-.59l7.78-7.78 2.81-2.81c.8-.78.8-2.07 0-2.86zM5.41 20L4 18.59l7.72-7.72 1.47 1.35L5.41 20z\"/>\n",
              "  </svg>\n",
              "      </button>\n",
              "      \n",
              "  <style>\n",
              "    .colab-df-container {\n",
              "      display:flex;\n",
              "      flex-wrap:wrap;\n",
              "      gap: 12px;\n",
              "    }\n",
              "\n",
              "    .colab-df-convert {\n",
              "      background-color: #E8F0FE;\n",
              "      border: none;\n",
              "      border-radius: 50%;\n",
              "      cursor: pointer;\n",
              "      display: none;\n",
              "      fill: #1967D2;\n",
              "      height: 32px;\n",
              "      padding: 0 0 0 0;\n",
              "      width: 32px;\n",
              "    }\n",
              "\n",
              "    .colab-df-convert:hover {\n",
              "      background-color: #E2EBFA;\n",
              "      box-shadow: 0px 1px 2px rgba(60, 64, 67, 0.3), 0px 1px 3px 1px rgba(60, 64, 67, 0.15);\n",
              "      fill: #174EA6;\n",
              "    }\n",
              "\n",
              "    [theme=dark] .colab-df-convert {\n",
              "      background-color: #3B4455;\n",
              "      fill: #D2E3FC;\n",
              "    }\n",
              "\n",
              "    [theme=dark] .colab-df-convert:hover {\n",
              "      background-color: #434B5C;\n",
              "      box-shadow: 0px 1px 3px 1px rgba(0, 0, 0, 0.15);\n",
              "      filter: drop-shadow(0px 1px 2px rgba(0, 0, 0, 0.3));\n",
              "      fill: #FFFFFF;\n",
              "    }\n",
              "  </style>\n",
              "\n",
              "      <script>\n",
              "        const buttonEl =\n",
              "          document.querySelector('#df-8a120540-489d-4ad2-a0ed-84816fcf010c button.colab-df-convert');\n",
              "        buttonEl.style.display =\n",
              "          google.colab.kernel.accessAllowed ? 'block' : 'none';\n",
              "\n",
              "        async function convertToInteractive(key) {\n",
              "          const element = document.querySelector('#df-8a120540-489d-4ad2-a0ed-84816fcf010c');\n",
              "          const dataTable =\n",
              "            await google.colab.kernel.invokeFunction('convertToInteractive',\n",
              "                                                     [key], {});\n",
              "          if (!dataTable) return;\n",
              "\n",
              "          const docLinkHtml = 'Like what you see? Visit the ' +\n",
              "            '<a target=\"_blank\" href=https://colab.research.google.com/notebooks/data_table.ipynb>data table notebook</a>'\n",
              "            + ' to learn more about interactive tables.';\n",
              "          element.innerHTML = '';\n",
              "          dataTable['output_type'] = 'display_data';\n",
              "          await google.colab.output.renderOutput(dataTable, element);\n",
              "          const docLink = document.createElement('div');\n",
              "          docLink.innerHTML = docLinkHtml;\n",
              "          element.appendChild(docLink);\n",
              "        }\n",
              "      </script>\n",
              "    </div>\n",
              "  </div>\n",
              "  "
            ]
          },
          "metadata": {},
          "execution_count": 3
        }
      ]
    },
    {
      "cell_type": "markdown",
      "source": [
        "<h2> Graphical Exploration of the data<h2>"
      ],
      "metadata": {
        "id": "OrIWGwNuhsLd"
      }
    },
    {
      "cell_type": "markdown",
      "source": [
        "<p> Bar plots to show the game sales based on genre and in different locations. The Dataset contains the locations for\n",
        "North America, Europe, Japan, and all others listed as Other.\n",
        "Initial observations show that Action games are the most popular\n",
        "in a majority of the markets with the exception of Japan, where\n",
        "Role Playing Games (RPG) account for a majority. </p>"
      ],
      "metadata": {
        "id": "2KsvSsCjf2fH"
      }
    },
    {
      "cell_type": "code",
      "source": [
        "df.groupby('Genre')['NA_Sales'].sum().sort_values(ascending=False).plot.bar()\n",
        "plt.title('Genre Sales in North America')\n",
        "plt.xlabel('Genre')\n",
        "plt.ylabel('Sales')"
      ],
      "metadata": {
        "id": "VfT1qt7-ypGX",
        "colab": {
          "base_uri": "https://localhost:8080/",
          "height": 364
        },
        "outputId": "2085c4bb-16ab-4c01-d105-e342c031f16c"
      },
      "execution_count": null,
      "outputs": [
        {
          "output_type": "execute_result",
          "data": {
            "text/plain": [
              "Text(0, 0.5, 'Sales')"
            ]
          },
          "metadata": {},
          "execution_count": 4
        },
        {
          "output_type": "display_data",
          "data": {
            "text/plain": [
              "<Figure size 432x288 with 1 Axes>"
            ],
            "image/png": "[encoded data removed]"
          },
          "metadata": {
            "needs_background": "light"
          }
        }
      ]
    },
    {
      "cell_type": "code",
      "source": [
        "df.groupby('Genre')['EU_Sales'].sum().sort_values(ascending=False).plot.bar()\n",
        "plt.title('Genre Sales in Europe')\n",
        "plt.xlabel('Genre')\n",
        "plt.ylabel('Sales')"
      ],
      "metadata": {
        "id": "QDztqXfEzGot",
        "colab": {
          "base_uri": "https://localhost:8080/",
          "height": 364
        },
        "outputId": "f25c5ea7-e424-4007-80ba-4e4b32a5e8ce"
      },
      "execution_count": null,
      "outputs": [
        {
          "output_type": "execute_result",
          "data": {
            "text/plain": [
              "Text(0, 0.5, 'Sales')"
            ]
          },
          "metadata": {},
          "execution_count": 5
        },
        {
          "output_type": "display_data",
          "data": {
            "text/plain": [
              "<Figure size 432x288 with 1 Axes>"
            ],
            "image/png": "[encoded data removed]"
          },
          "metadata": {
            "needs_background": "light"
          }
        }
      ]
    },
    {
      "cell_type": "code",
      "source": [
        "df.groupby('Genre')['JP_Sales'].sum().sort_values(ascending=False).plot.bar()\n",
        "plt.title('Genre Sales in Japan')\n",
        "plt.xlabel('Genre')\n",
        "plt.ylabel('Sales')"
      ],
      "metadata": {
        "id": "AphYzVL_zKoZ",
        "colab": {
          "base_uri": "https://localhost:8080/",
          "height": 364
        },
        "outputId": "caca8fb4-294e-4cd7-ce66-c502a3228a15"
      },
      "execution_count": null,
      "outputs": [
        {
          "output_type": "execute_result",
          "data": {
            "text/plain": [
              "Text(0, 0.5, 'Sales')"
            ]
          },
          "metadata": {},
          "execution_count": 6
        },
        {
          "output_type": "display_data",
          "data": {
            "text/plain": [
              "<Figure size 432x288 with 1 Axes>"
            ],
            "image/png": "[encoded data removed]"
          },
          "metadata": {
            "needs_background": "light"
          }
        }
      ]
    },
    {
      "cell_type": "code",
      "source": [
        "df.groupby('Genre')['Other_Sales'].sum().sort_values(ascending=False).plot.bar()\n",
        "plt.title('Genre Sales in Other')\n",
        "plt.xlabel('Genre')\n",
        "plt.ylabel('Sales')"
      ],
      "metadata": {
        "id": "Y2G0ltrPzQk6",
        "colab": {
          "base_uri": "https://localhost:8080/",
          "height": 364
        },
        "outputId": "c0fc60ae-7722-43d6-9c2c-0b1beccca979"
      },
      "execution_count": null,
      "outputs": [
        {
          "output_type": "execute_result",
          "data": {
            "text/plain": [
              "Text(0, 0.5, 'Sales')"
            ]
          },
          "metadata": {},
          "execution_count": 7
        },
        {
          "output_type": "display_data",
          "data": {
            "text/plain": [
              "<Figure size 432x288 with 1 Axes>"
            ],
            "image/png": "[encoded data removed]"
          },
          "metadata": {
            "needs_background": "light"
          }
        }
      ]
    },
    {
      "cell_type": "code",
      "source": [
        "df.groupby('Genre')['Global_Sales'].sum().sort_values(ascending=False).plot.bar()\n",
        "plt.title('Genre Sales Globally')\n",
        "plt.xlabel('Genre')\n",
        "plt.ylabel('Sales')"
      ],
      "metadata": {
        "id": "OJl2hsaqzVtW",
        "colab": {
          "base_uri": "https://localhost:8080/",
          "height": 364
        },
        "outputId": "9a179f44-0f2f-4c5f-90ec-f88fa8ceb833"
      },
      "execution_count": null,
      "outputs": [
        {
          "output_type": "execute_result",
          "data": {
            "text/plain": [
              "Text(0, 0.5, 'Sales')"
            ]
          },
          "metadata": {},
          "execution_count": 8
        },
        {
          "output_type": "display_data",
          "data": {
            "text/plain": [
              "<Figure size 432x288 with 1 Axes>"
            ],
            "image/png": "[encoded data removed]"
          },
          "metadata": {
            "needs_background": "light"
          }
        }
      ]
    },
    {
      "cell_type": "markdown",
      "source": [
        "\n",
        "\n",
        "```\n",
        "# This is formatted as code\n",
        "```\n",
        "\n",
        "<h1>Genre Pie Chart After Cleaning the Data</h1>\n",
        "<p>NA values were dropped from Genre and the pie chart reveals an intersting peculiarity with the dataset. Although the bar plots reveal Action and RPG games acount for the most in sales, The Sports genre is the most popular based on the total number of games within that genre  but not the highest grossing sales genre.</p>"
      ],
      "metadata": {
        "id": "laIaPxDVDHBZ"
      }
    },
    {
      "cell_type": "markdown",
      "source": [
        "<h1>Pie Chart Of Number Of Sales Of Video Game By Genre</h1>"
      ],
      "metadata": {
        "id": "5SDFAzutYhVv"
      }
    },
    {
      "cell_type": "code",
      "source": [
        "pie_vals = df['Genre'].value_counts()\n",
        "pie_labels = df['Genre'].dropna().unique() \n",
        "plt.pie(pie_vals, labels=pie_labels, radius=2.0, autopct='%0.1f%%');"
      ],
      "metadata": {
        "id": "QjB4lmR-0wyf",
        "colab": {
          "base_uri": "https://localhost:8080/",
          "height": 420
        },
        "outputId": "c06b6689-2487-45d9-8184-aeec308d7525"
      },
      "execution_count": null,
      "outputs": [
        {
          "output_type": "display_data",
          "data": {
            "text/plain": [
              "<Figure size 432x288 with 1 Axes>"
            ],
            "image/png": "[encoded data removed]"
          },
          "metadata": {}
        }
      ]
    },
    {
      "cell_type": "markdown",
      "source": [
        "<h1>Pie Chart Of The Amount Of Sales Of Video Game By Genre</h1>"
      ],
      "metadata": {
        "id": "pvsIgwkMYsJO"
      }
    },
    {
      "cell_type": "code",
      "source": [
        "pie_vals = df.groupby('Genre')['Global_Sales'].sum()\n",
        "plt.pie(pie_vals, labels=pie_labels, radius=2.0, autopct='%0.1f%%');"
      ],
      "metadata": {
        "id": "2hQGZ6FBXLz7",
        "colab": {
          "base_uri": "https://localhost:8080/",
          "height": 422
        },
        "outputId": "ce2beae9-03b5-417c-dc84-20082766395d"
      },
      "execution_count": null,
      "outputs": [
        {
          "output_type": "display_data",
          "data": {
            "text/plain": [
              "<Figure size 432x288 with 1 Axes>"
            ],
            "image/png": "[encoded data removed]"
          },
          "metadata": {}
        }
      ]
    },
    {
      "cell_type": "code",
      "source": [
        "sns.catplot(x=\"Genre\", y=\"Global_Sales\", kind=\"box\", data=df)\n",
        "plt.xticks(rotation=45)"
      ],
      "metadata": {
        "id": "BCGqA9RL2rjb",
        "colab": {
          "base_uri": "https://localhost:8080/",
          "height": 444
        },
        "outputId": "75131595-7d87-4631-bffd-85c9abb73470"
      },
      "execution_count": null,
      "outputs": [
        {
          "output_type": "execute_result",
          "data": {
            "text/plain": [
              "(array([ 0,  1,  2,  3,  4,  5,  6,  7,  8,  9, 10, 11]),\n",
              " <a list of 12 Text major ticklabel objects>)"
            ]
          },
          "metadata": {},
          "execution_count": 11
        },
        {
          "output_type": "display_data",
          "data": {
            "text/plain": [
              "<Figure size 360x360 with 1 Axes>"
            ],
            "image/png": "[encoded data removed]"
          },
          "metadata": {
            "needs_background": "light"
          }
        }
      ]
    },
    {
      "cell_type": "markdown",
      "source": [
        "<h1>Further Exploration</h1>\n",
        "<p> Below the data is examined by applying different masks of the dataset. Wii Sports for example, is the only video game with sales greater than 50 million. A new table will be created with Wii Sports removed since it skews the sports genre data. (Wii sports was a games bundled with the Wii and reflects more of the success of that console than that genre)</p>"
      ],
      "metadata": {
        "id": "dnpkaTneFZAe"
      }
    },
    {
      "cell_type": "code",
      "source": [
        "df[df['Global_Sales'] > 50]"
      ],
      "metadata": {
        "id": "6zEFq75e4fSo",
        "colab": {
          "base_uri": "https://localhost:8080/",
          "height": 161
        },
        "outputId": "c03b3b8e-5f6e-4a5f-d933-69580a5d1025"
      },
      "execution_count": null,
      "outputs": [
        {
          "output_type": "execute_result",
          "data": {
            "text/plain": [
              "         Name Platform  Year_of_Release   Genre Publisher  NA_Sales  EU_Sales  \\\n",
              "0  Wii Sports      Wii           2006.0  Sports  Nintendo     41.36     28.96   \n",
              "\n",
              "   JP_Sales  Other_Sales  Global_Sales  Critic_Score  Critic_Count User_Score  \\\n",
              "0      3.77         8.45         82.53          76.0          51.0          8   \n",
              "\n",
              "   User_Count Developer Rating  \n",
              "0       322.0  Nintendo      E  "
            ],
            "text/html": [
              "\n",
              "  <div id=\"df-206a7b3b-0413-4392-94a4-7822c0463599\">\n",
              "    <div class=\"colab-df-container\">\n",
              "      <div>\n",
              "<style scoped>\n",
              "    .dataframe tbody tr th:only-of-type {\n",
              "        vertical-align: middle;\n",
              "    }\n",
              "\n",
              "    .dataframe tbody tr th {\n",
              "        vertical-align: top;\n",
              "    }\n",
              "\n",
              "    .dataframe thead th {\n",
              "        text-align: right;\n",
              "    }\n",
              "</style>\n",
              "<table border=\"1\" class=\"dataframe\">\n",
              "  <thead>\n",
              "    <tr style=\"text-align: right;\">\n",
              "      <th></th>\n",
              "      <th>Name</th>\n",
              "      <th>Platform</th>\n",
              "      <th>Year_of_Release</th>\n",
              "      <th>Genre</th>\n",
              "      <th>Publisher</th>\n",
              "      <th>NA_Sales</th>\n",
              "      <th>EU_Sales</th>\n",
              "      <th>JP_Sales</th>\n",
              "      <th>Other_Sales</th>\n",
              "      <th>Global_Sales</th>\n",
              "      <th>Critic_Score</th>\n",
              "      <th>Critic_Count</th>\n",
              "      <th>User_Score</th>\n",
              "      <th>User_Count</th>\n",
              "      <th>Developer</th>\n",
              "      <th>Rating</th>\n",
              "    </tr>\n",
              "  </thead>\n",
              "  <tbody>\n",
              "    <tr>\n",
              "      <th>0</th>\n",
              "      <td>Wii Sports</td>\n",
              "      <td>Wii</td>\n",
              "      <td>2006.0</td>\n",
              "      <td>Sports</td>\n",
              "      <td>Nintendo</td>\n",
              "      <td>41.36</td>\n",
              "      <td>28.96</td>\n",
              "      <td>3.77</td>\n",
              "      <td>8.45</td>\n",
              "      <td>82.53</td>\n",
              "      <td>76.0</td>\n",
              "      <td>51.0</td>\n",
              "      <td>8</td>\n",
              "      <td>322.0</td>\n",
              "      <td>Nintendo</td>\n",
              "      <td>E</td>\n",
              "    </tr>\n",
              "  </tbody>\n",
              "</table>\n",
              "</div>\n",
              "      <button class=\"colab-df-convert\" onclick=\"convertToInteractive('df-206a7b3b-0413-4392-94a4-7822c0463599')\"\n",
              "              title=\"Convert this dataframe to an interactive table.\"\n",
              "              style=\"display:none;\">\n",
              "        \n",
              "  <svg xmlns=\"http://www.w3.org/2000/svg\" height=\"24px\"viewBox=\"0 0 24 24\"\n",
              "       width=\"24px\">\n",
              "    <path d=\"M0 0h24v24H0V0z\" fill=\"none\"/>\n",
              "    <path d=\"M18.56 5.44l.94 2.06.94-2.06 2.06-.94-2.06-.94-.94-2.06-.94 2.06-2.06.94zm-11 1L8.5 8.5l.94-2.06 2.06-.94-2.06-.94L8.5 2.5l-.94 2.06-2.06.94zm10 10l.94 2.06.94-2.06 2.06-.94-2.06-.94-.94-2.06-.94 2.06-2.06.94z\"/><path d=\"M17.41 7.96l-1.37-1.37c-.4-.4-.92-.59-1.43-.59-.52 0-1.04.2-1.43.59L10.3 9.45l-7.72 7.72c-.78.78-.78 2.05 0 2.83L4 21.41c.39.39.9.59 1.41.59.51 0 1.02-.2 1.41-.59l7.78-7.78 2.81-2.81c.8-.78.8-2.07 0-2.86zM5.41 20L4 18.59l7.72-7.72 1.47 1.35L5.41 20z\"/>\n",
              "  </svg>\n",
              "      </button>\n",
              "      \n",
              "  <style>\n",
              "    .colab-df-container {\n",
              "      display:flex;\n",
              "      flex-wrap:wrap;\n",
              "      gap: 12px;\n",
              "    }\n",
              "\n",
              "    .colab-df-convert {\n",
              "      background-color: #E8F0FE;\n",
              "      border: none;\n",
              "      border-radius: 50%;\n",
              "      cursor: pointer;\n",
              "      display: none;\n",
              "      fill: #1967D2;\n",
              "      height: 32px;\n",
              "      padding: 0 0 0 0;\n",
              "      width: 32px;\n",
              "    }\n",
              "\n",
              "    .colab-df-convert:hover {\n",
              "      background-color: #E2EBFA;\n",
              "      box-shadow: 0px 1px 2px rgba(60, 64, 67, 0.3), 0px 1px 3px 1px rgba(60, 64, 67, 0.15);\n",
              "      fill: #174EA6;\n",
              "    }\n",
              "\n",
              "    [theme=dark] .colab-df-convert {\n",
              "      background-color: #3B4455;\n",
              "      fill: #D2E3FC;\n",
              "    }\n",
              "\n",
              "    [theme=dark] .colab-df-convert:hover {\n",
              "      background-color: #434B5C;\n",
              "      box-shadow: 0px 1px 3px 1px rgba(0, 0, 0, 0.15);\n",
              "      filter: drop-shadow(0px 1px 2px rgba(0, 0, 0, 0.3));\n",
              "      fill: #FFFFFF;\n",
              "    }\n",
              "  </style>\n",
              "\n",
              "      <script>\n",
              "        const buttonEl =\n",
              "          document.querySelector('#df-206a7b3b-0413-4392-94a4-7822c0463599 button.colab-df-convert');\n",
              "        buttonEl.style.display =\n",
              "          google.colab.kernel.accessAllowed ? 'block' : 'none';\n",
              "\n",
              "        async function convertToInteractive(key) {\n",
              "          const element = document.querySelector('#df-206a7b3b-0413-4392-94a4-7822c0463599');\n",
              "          const dataTable =\n",
              "            await google.colab.kernel.invokeFunction('convertToInteractive',\n",
              "                                                     [key], {});\n",
              "          if (!dataTable) return;\n",
              "\n",
              "          const docLinkHtml = 'Like what you see? Visit the ' +\n",
              "            '<a target=\"_blank\" href=https://colab.research.google.com/notebooks/data_table.ipynb>data table notebook</a>'\n",
              "            + ' to learn more about interactive tables.';\n",
              "          element.innerHTML = '';\n",
              "          dataTable['output_type'] = 'display_data';\n",
              "          await google.colab.output.renderOutput(dataTable, element);\n",
              "          const docLink = document.createElement('div');\n",
              "          docLink.innerHTML = docLinkHtml;\n",
              "          element.appendChild(docLink);\n",
              "        }\n",
              "      </script>\n",
              "    </div>\n",
              "  </div>\n",
              "  "
            ]
          },
          "metadata": {},
          "execution_count": 12
        }
      ]
    },
    {
      "cell_type": "code",
      "source": [
        "df[df['Genre'].isna() == True]"
      ],
      "metadata": {
        "id": "3yJ4XKK5dZL1",
        "colab": {
          "base_uri": "https://localhost:8080/",
          "height": 209
        },
        "outputId": "2e74d241-3438-427b-b59c-809dd4633145"
      },
      "execution_count": null,
      "outputs": [
        {
          "output_type": "execute_result",
          "data": {
            "text/plain": [
              "      Name Platform  Year_of_Release Genre              Publisher  NA_Sales  \\\n",
              "659    NaN      GEN           1993.0   NaN  Acclaim Entertainment      1.78   \n",
              "14246  NaN      GEN           1993.0   NaN  Acclaim Entertainment      0.00   \n",
              "\n",
              "       EU_Sales  JP_Sales  Other_Sales  Global_Sales  Critic_Score  \\\n",
              "659        0.53      0.00         0.08          2.39           NaN   \n",
              "14246      0.00      0.03         0.00          0.03           NaN   \n",
              "\n",
              "       Critic_Count User_Score  User_Count Developer Rating  \n",
              "659             NaN        NaN         NaN       NaN    NaN  \n",
              "14246           NaN        NaN         NaN       NaN    NaN  "
            ],
            "text/html": [
              "\n",
              "  <div id=\"df-43604051-9fd9-4f7b-be3e-f4eeaaa4b0a1\">\n",
              "    <div class=\"colab-df-container\">\n",
              "      <div>\n",
              "<style scoped>\n",
              "    .dataframe tbody tr th:only-of-type {\n",
              "        vertical-align: middle;\n",
              "    }\n",
              "\n",
              "    .dataframe tbody tr th {\n",
              "        vertical-align: top;\n",
              "    }\n",
              "\n",
              "    .dataframe thead th {\n",
              "        text-align: right;\n",
              "    }\n",
              "</style>\n",
              "<table border=\"1\" class=\"dataframe\">\n",
              "  <thead>\n",
              "    <tr style=\"text-align: right;\">\n",
              "      <th></th>\n",
              "      <th>Name</th>\n",
              "      <th>Platform</th>\n",
              "      <th>Year_of_Release</th>\n",
              "      <th>Genre</th>\n",
              "      <th>Publisher</th>\n",
              "      <th>NA_Sales</th>\n",
              "      <th>EU_Sales</th>\n",
              "      <th>JP_Sales</th>\n",
              "      <th>Other_Sales</th>\n",
              "      <th>Global_Sales</th>\n",
              "      <th>Critic_Score</th>\n",
              "      <th>Critic_Count</th>\n",
              "      <th>User_Score</th>\n",
              "      <th>User_Count</th>\n",
              "      <th>Developer</th>\n",
              "      <th>Rating</th>\n",
              "    </tr>\n",
              "  </thead>\n",
              "  <tbody>\n",
              "    <tr>\n",
              "      <th>659</th>\n",
              "      <td>NaN</td>\n",
              "      <td>GEN</td>\n",
              "      <td>1993.0</td>\n",
              "      <td>NaN</td>\n",
              "      <td>Acclaim Entertainment</td>\n",
              "      <td>1.78</td>\n",
              "      <td>0.53</td>\n",
              "      <td>0.00</td>\n",
              "      <td>0.08</td>\n",
              "      <td>2.39</td>\n",
              "      <td>NaN</td>\n",
              "      <td>NaN</td>\n",
              "      <td>NaN</td>\n",
              "      <td>NaN</td>\n",
              "      <td>NaN</td>\n",
              "      <td>NaN</td>\n",
              "    </tr>\n",
              "    <tr>\n",
              "      <th>14246</th>\n",
              "      <td>NaN</td>\n",
              "      <td>GEN</td>\n",
              "      <td>1993.0</td>\n",
              "      <td>NaN</td>\n",
              "      <td>Acclaim Entertainment</td>\n",
              "      <td>0.00</td>\n",
              "      <td>0.00</td>\n",
              "      <td>0.03</td>\n",
              "      <td>0.00</td>\n",
              "      <td>0.03</td>\n",
              "      <td>NaN</td>\n",
              "      <td>NaN</td>\n",
              "      <td>NaN</td>\n",
              "      <td>NaN</td>\n",
              "      <td>NaN</td>\n",
              "      <td>NaN</td>\n",
              "    </tr>\n",
              "  </tbody>\n",
              "</table>\n",
              "</div>\n",
              "      <button class=\"colab-df-convert\" onclick=\"convertToInteractive('df-43604051-9fd9-4f7b-be3e-f4eeaaa4b0a1')\"\n",
              "              title=\"Convert this dataframe to an interactive table.\"\n",
              "              style=\"display:none;\">\n",
              "        \n",
              "  <svg xmlns=\"http://www.w3.org/2000/svg\" height=\"24px\"viewBox=\"0 0 24 24\"\n",
              "       width=\"24px\">\n",
              "    <path d=\"M0 0h24v24H0V0z\" fill=\"none\"/>\n",
              "    <path d=\"M18.56 5.44l.94 2.06.94-2.06 2.06-.94-2.06-.94-.94-2.06-.94 2.06-2.06.94zm-11 1L8.5 8.5l.94-2.06 2.06-.94-2.06-.94L8.5 2.5l-.94 2.06-2.06.94zm10 10l.94 2.06.94-2.06 2.06-.94-2.06-.94-.94-2.06-.94 2.06-2.06.94z\"/><path d=\"M17.41 7.96l-1.37-1.37c-.4-.4-.92-.59-1.43-.59-.52 0-1.04.2-1.43.59L10.3 9.45l-7.72 7.72c-.78.78-.78 2.05 0 2.83L4 21.41c.39.39.9.59 1.41.59.51 0 1.02-.2 1.41-.59l7.78-7.78 2.81-2.81c.8-.78.8-2.07 0-2.86zM5.41 20L4 18.59l7.72-7.72 1.47 1.35L5.41 20z\"/>\n",
              "  </svg>\n",
              "      </button>\n",
              "      \n",
              "  <style>\n",
              "    .colab-df-container {\n",
              "      display:flex;\n",
              "      flex-wrap:wrap;\n",
              "      gap: 12px;\n",
              "    }\n",
              "\n",
              "    .colab-df-convert {\n",
              "      background-color: #E8F0FE;\n",
              "      border: none;\n",
              "      border-radius: 50%;\n",
              "      cursor: pointer;\n",
              "      display: none;\n",
              "      fill: #1967D2;\n",
              "      height: 32px;\n",
              "      padding: 0 0 0 0;\n",
              "      width: 32px;\n",
              "    }\n",
              "\n",
              "    .colab-df-convert:hover {\n",
              "      background-color: #E2EBFA;\n",
              "      box-shadow: 0px 1px 2px rgba(60, 64, 67, 0.3), 0px 1px 3px 1px rgba(60, 64, 67, 0.15);\n",
              "      fill: #174EA6;\n",
              "    }\n",
              "\n",
              "    [theme=dark] .colab-df-convert {\n",
              "      background-color: #3B4455;\n",
              "      fill: #D2E3FC;\n",
              "    }\n",
              "\n",
              "    [theme=dark] .colab-df-convert:hover {\n",
              "      background-color: #434B5C;\n",
              "      box-shadow: 0px 1px 3px 1px rgba(0, 0, 0, 0.15);\n",
              "      filter: drop-shadow(0px 1px 2px rgba(0, 0, 0, 0.3));\n",
              "      fill: #FFFFFF;\n",
              "    }\n",
              "  </style>\n",
              "\n",
              "      <script>\n",
              "        const buttonEl =\n",
              "          document.querySelector('#df-43604051-9fd9-4f7b-be3e-f4eeaaa4b0a1 button.colab-df-convert');\n",
              "        buttonEl.style.display =\n",
              "          google.colab.kernel.accessAllowed ? 'block' : 'none';\n",
              "\n",
              "        async function convertToInteractive(key) {\n",
              "          const element = document.querySelector('#df-43604051-9fd9-4f7b-be3e-f4eeaaa4b0a1');\n",
              "          const dataTable =\n",
              "            await google.colab.kernel.invokeFunction('convertToInteractive',\n",
              "                                                     [key], {});\n",
              "          if (!dataTable) return;\n",
              "\n",
              "          const docLinkHtml = 'Like what you see? Visit the ' +\n",
              "            '<a target=\"_blank\" href=https://colab.research.google.com/notebooks/data_table.ipynb>data table notebook</a>'\n",
              "            + ' to learn more about interactive tables.';\n",
              "          element.innerHTML = '';\n",
              "          dataTable['output_type'] = 'display_data';\n",
              "          await google.colab.output.renderOutput(dataTable, element);\n",
              "          const docLink = document.createElement('div');\n",
              "          docLink.innerHTML = docLinkHtml;\n",
              "          element.appendChild(docLink);\n",
              "        }\n",
              "      </script>\n",
              "    </div>\n",
              "  </div>\n",
              "  "
            ]
          },
          "metadata": {},
          "execution_count": 13
        }
      ]
    },
    {
      "cell_type": "code",
      "source": [
        "df.describe(percentiles=[]).round(1)"
      ],
      "metadata": {
        "id": "MenM4sYEohQi",
        "colab": {
          "base_uri": "https://localhost:8080/",
          "height": 235
        },
        "outputId": "7884c6a9-cf1b-43e2-a183-d98d9ca28e6b"
      },
      "execution_count": null,
      "outputs": [
        {
          "output_type": "execute_result",
          "data": {
            "text/plain": [
              "       Year_of_Release  NA_Sales  EU_Sales  JP_Sales  Other_Sales  \\\n",
              "count          16450.0   16719.0   16719.0   16719.0      16719.0   \n",
              "mean            2006.5       0.3       0.1       0.1          0.0   \n",
              "std                5.9       0.8       0.5       0.3          0.2   \n",
              "min             1980.0       0.0       0.0       0.0          0.0   \n",
              "50%             2007.0       0.1       0.0       0.0          0.0   \n",
              "max             2020.0      41.4      29.0      10.2         10.6   \n",
              "\n",
              "       Global_Sales  Critic_Score  Critic_Count  User_Count  \n",
              "count       16719.0        8137.0        8137.0      7590.0  \n",
              "mean            0.5          69.0          26.4       162.2  \n",
              "std             1.5          13.9          19.0       561.3  \n",
              "min             0.0          13.0           3.0         4.0  \n",
              "50%             0.2          71.0          21.0        24.0  \n",
              "max            82.5          98.0         113.0     10665.0  "
            ],
            "text/html": [
              "\n",
              "  <div id=\"df-67c58952-e03d-4cee-9147-1c7b6f235dc0\">\n",
              "    <div class=\"colab-df-container\">\n",
              "      <div>\n",
              "<style scoped>\n",
              "    .dataframe tbody tr th:only-of-type {\n",
              "        vertical-align: middle;\n",
              "    }\n",
              "\n",
              "    .dataframe tbody tr th {\n",
              "        vertical-align: top;\n",
              "    }\n",
              "\n",
              "    .dataframe thead th {\n",
              "        text-align: right;\n",
              "    }\n",
              "</style>\n",
              "<table border=\"1\" class=\"dataframe\">\n",
              "  <thead>\n",
              "    <tr style=\"text-align: right;\">\n",
              "      <th></th>\n",
              "      <th>Year_of_Release</th>\n",
              "      <th>NA_Sales</th>\n",
              "      <th>EU_Sales</th>\n",
              "      <th>JP_Sales</th>\n",
              "      <th>Other_Sales</th>\n",
              "      <th>Global_Sales</th>\n",
              "      <th>Critic_Score</th>\n",
              "      <th>Critic_Count</th>\n",
              "      <th>User_Count</th>\n",
              "    </tr>\n",
              "  </thead>\n",
              "  <tbody>\n",
              "    <tr>\n",
              "      <th>count</th>\n",
              "      <td>16450.0</td>\n",
              "      <td>16719.0</td>\n",
              "      <td>16719.0</td>\n",
              "      <td>16719.0</td>\n",
              "      <td>16719.0</td>\n",
              "      <td>16719.0</td>\n",
              "      <td>8137.0</td>\n",
              "      <td>8137.0</td>\n",
              "      <td>7590.0</td>\n",
              "    </tr>\n",
              "    <tr>\n",
              "      <th>mean</th>\n",
              "      <td>2006.5</td>\n",
              "      <td>0.3</td>\n",
              "      <td>0.1</td>\n",
              "      <td>0.1</td>\n",
              "      <td>0.0</td>\n",
              "      <td>0.5</td>\n",
              "      <td>69.0</td>\n",
              "      <td>26.4</td>\n",
              "      <td>162.2</td>\n",
              "    </tr>\n",
              "    <tr>\n",
              "      <th>std</th>\n",
              "      <td>5.9</td>\n",
              "      <td>0.8</td>\n",
              "      <td>0.5</td>\n",
              "      <td>0.3</td>\n",
              "      <td>0.2</td>\n",
              "      <td>1.5</td>\n",
              "      <td>13.9</td>\n",
              "      <td>19.0</td>\n",
              "      <td>561.3</td>\n",
              "    </tr>\n",
              "    <tr>\n",
              "      <th>min</th>\n",
              "      <td>1980.0</td>\n",
              "      <td>0.0</td>\n",
              "      <td>0.0</td>\n",
              "      <td>0.0</td>\n",
              "      <td>0.0</td>\n",
              "      <td>0.0</td>\n",
              "      <td>13.0</td>\n",
              "      <td>3.0</td>\n",
              "      <td>4.0</td>\n",
              "    </tr>\n",
              "    <tr>\n",
              "      <th>50%</th>\n",
              "      <td>2007.0</td>\n",
              "      <td>0.1</td>\n",
              "      <td>0.0</td>\n",
              "      <td>0.0</td>\n",
              "      <td>0.0</td>\n",
              "      <td>0.2</td>\n",
              "      <td>71.0</td>\n",
              "      <td>21.0</td>\n",
              "      <td>24.0</td>\n",
              "    </tr>\n",
              "    <tr>\n",
              "      <th>max</th>\n",
              "      <td>2020.0</td>\n",
              "      <td>41.4</td>\n",
              "      <td>29.0</td>\n",
              "      <td>10.2</td>\n",
              "      <td>10.6</td>\n",
              "      <td>82.5</td>\n",
              "      <td>98.0</td>\n",
              "      <td>113.0</td>\n",
              "      <td>10665.0</td>\n",
              "    </tr>\n",
              "  </tbody>\n",
              "</table>\n",
              "</div>\n",
              "      <button class=\"colab-df-convert\" onclick=\"convertToInteractive('df-67c58952-e03d-4cee-9147-1c7b6f235dc0')\"\n",
              "              title=\"Convert this dataframe to an interactive table.\"\n",
              "              style=\"display:none;\">\n",
              "        \n",
              "  <svg xmlns=\"http://www.w3.org/2000/svg\" height=\"24px\"viewBox=\"0 0 24 24\"\n",
              "       width=\"24px\">\n",
              "    <path d=\"M0 0h24v24H0V0z\" fill=\"none\"/>\n",
              "    <path d=\"M18.56 5.44l.94 2.06.94-2.06 2.06-.94-2.06-.94-.94-2.06-.94 2.06-2.06.94zm-11 1L8.5 8.5l.94-2.06 2.06-.94-2.06-.94L8.5 2.5l-.94 2.06-2.06.94zm10 10l.94 2.06.94-2.06 2.06-.94-2.06-.94-.94-2.06-.94 2.06-2.06.94z\"/><path d=\"M17.41 7.96l-1.37-1.37c-.4-.4-.92-.59-1.43-.59-.52 0-1.04.2-1.43.59L10.3 9.45l-7.72 7.72c-.78.78-.78 2.05 0 2.83L4 21.41c.39.39.9.59 1.41.59.51 0 1.02-.2 1.41-.59l7.78-7.78 2.81-2.81c.8-.78.8-2.07 0-2.86zM5.41 20L4 18.59l7.72-7.72 1.47 1.35L5.41 20z\"/>\n",
              "  </svg>\n",
              "      </button>\n",
              "      \n",
              "  <style>\n",
              "    .colab-df-container {\n",
              "      display:flex;\n",
              "      flex-wrap:wrap;\n",
              "      gap: 12px;\n",
              "    }\n",
              "\n",
              "    .colab-df-convert {\n",
              "      background-color: #E8F0FE;\n",
              "      border: none;\n",
              "      border-radius: 50%;\n",
              "      cursor: pointer;\n",
              "      display: none;\n",
              "      fill: #1967D2;\n",
              "      height: 32px;\n",
              "      padding: 0 0 0 0;\n",
              "      width: 32px;\n",
              "    }\n",
              "\n",
              "    .colab-df-convert:hover {\n",
              "      background-color: #E2EBFA;\n",
              "      box-shadow: 0px 1px 2px rgba(60, 64, 67, 0.3), 0px 1px 3px 1px rgba(60, 64, 67, 0.15);\n",
              "      fill: #174EA6;\n",
              "    }\n",
              "\n",
              "    [theme=dark] .colab-df-convert {\n",
              "      background-color: #3B4455;\n",
              "      fill: #D2E3FC;\n",
              "    }\n",
              "\n",
              "    [theme=dark] .colab-df-convert:hover {\n",
              "      background-color: #434B5C;\n",
              "      box-shadow: 0px 1px 3px 1px rgba(0, 0, 0, 0.15);\n",
              "      filter: drop-shadow(0px 1px 2px rgba(0, 0, 0, 0.3));\n",
              "      fill: #FFFFFF;\n",
              "    }\n",
              "  </style>\n",
              "\n",
              "      <script>\n",
              "        const buttonEl =\n",
              "          document.querySelector('#df-67c58952-e03d-4cee-9147-1c7b6f235dc0 button.colab-df-convert');\n",
              "        buttonEl.style.display =\n",
              "          google.colab.kernel.accessAllowed ? 'block' : 'none';\n",
              "\n",
              "        async function convertToInteractive(key) {\n",
              "          const element = document.querySelector('#df-67c58952-e03d-4cee-9147-1c7b6f235dc0');\n",
              "          const dataTable =\n",
              "            await google.colab.kernel.invokeFunction('convertToInteractive',\n",
              "                                                     [key], {});\n",
              "          if (!dataTable) return;\n",
              "\n",
              "          const docLinkHtml = 'Like what you see? Visit the ' +\n",
              "            '<a target=\"_blank\" href=https://colab.research.google.com/notebooks/data_table.ipynb>data table notebook</a>'\n",
              "            + ' to learn more about interactive tables.';\n",
              "          element.innerHTML = '';\n",
              "          dataTable['output_type'] = 'display_data';\n",
              "          await google.colab.output.renderOutput(dataTable, element);\n",
              "          const docLink = document.createElement('div');\n",
              "          docLink.innerHTML = docLinkHtml;\n",
              "          element.appendChild(docLink);\n",
              "        }\n",
              "      </script>\n",
              "    </div>\n",
              "  </div>\n",
              "  "
            ]
          },
          "metadata": {},
          "execution_count": 14
        }
      ]
    },
    {
      "cell_type": "code",
      "source": [
        "df[df['Year_of_Release'] > 2016]"
      ],
      "metadata": {
        "id": "Utdo2lM77u_v",
        "colab": {
          "base_uri": "https://localhost:8080/",
          "height": 526
        },
        "outputId": "6e0098af-7085-41e5-db7c-90705c87a0a2"
      },
      "execution_count": null,
      "outputs": [
        {
          "output_type": "execute_result",
          "data": {
            "text/plain": [
              "                                                   Name Platform  \\\n",
              "5936                             Imagine: Makeup Artist       DS   \n",
              "14086  Phantasy Star Online 2 Episode 4: Deluxe Package      PS4   \n",
              "16222  Phantasy Star Online 2 Episode 4: Deluxe Package      PSV   \n",
              "16385                  Brothers Conflict: Precious Baby      PSV   \n",
              "\n",
              "       Year_of_Release         Genre     Publisher  NA_Sales  EU_Sales  \\\n",
              "5936            2020.0    Simulation       Ubisoft      0.27       0.0   \n",
              "14086           2017.0  Role-Playing          Sega      0.00       0.0   \n",
              "16222           2017.0  Role-Playing          Sega      0.00       0.0   \n",
              "16385           2017.0        Action  Idea Factory      0.00       0.0   \n",
              "\n",
              "       JP_Sales  Other_Sales  Global_Sales  Critic_Score  Critic_Count  \\\n",
              "5936       0.00         0.02          0.29           NaN           NaN   \n",
              "14086      0.04         0.00          0.04           NaN           NaN   \n",
              "16222      0.01         0.00          0.01           NaN           NaN   \n",
              "16385      0.01         0.00          0.01           NaN           NaN   \n",
              "\n",
              "      User_Score  User_Count Developer Rating  \n",
              "5936         tbd         NaN   Ubisoft      E  \n",
              "14086        NaN         NaN       NaN    NaN  \n",
              "16222        NaN         NaN       NaN    NaN  \n",
              "16385        NaN         NaN       NaN    NaN  "
            ],
            "text/html": [
              "\n",
              "  <div id=\"df-9883707f-e641-454b-923b-270da8abdc59\">\n",
              "    <div class=\"colab-df-container\">\n",
              "      <div>\n",
              "<style scoped>\n",
              "    .dataframe tbody tr th:only-of-type {\n",
              "        vertical-align: middle;\n",
              "    }\n",
              "\n",
              "    .dataframe tbody tr th {\n",
              "        vertical-align: top;\n",
              "    }\n",
              "\n",
              "    .dataframe thead th {\n",
              "        text-align: right;\n",
              "    }\n",
              "</style>\n",
              "<table border=\"1\" class=\"dataframe\">\n",
              "  <thead>\n",
              "    <tr style=\"text-align: right;\">\n",
              "      <th></th>\n",
              "      <th>Name</th>\n",
              "      <th>Platform</th>\n",
              "      <th>Year_of_Release</th>\n",
              "      <th>Genre</th>\n",
              "      <th>Publisher</th>\n",
              "      <th>NA_Sales</th>\n",
              "      <th>EU_Sales</th>\n",
              "      <th>JP_Sales</th>\n",
              "      <th>Other_Sales</th>\n",
              "      <th>Global_Sales</th>\n",
              "      <th>Critic_Score</th>\n",
              "      <th>Critic_Count</th>\n",
              "      <th>User_Score</th>\n",
              "      <th>User_Count</th>\n",
              "      <th>Developer</th>\n",
              "      <th>Rating</th>\n",
              "    </tr>\n",
              "  </thead>\n",
              "  <tbody>\n",
              "    <tr>\n",
              "      <th>5936</th>\n",
              "      <td>Imagine: Makeup Artist</td>\n",
              "      <td>DS</td>\n",
              "      <td>2020.0</td>\n",
              "      <td>Simulation</td>\n",
              "      <td>Ubisoft</td>\n",
              "      <td>0.27</td>\n",
              "      <td>0.0</td>\n",
              "      <td>0.00</td>\n",
              "      <td>0.02</td>\n",
              "      <td>0.29</td>\n",
              "      <td>NaN</td>\n",
              "      <td>NaN</td>\n",
              "      <td>tbd</td>\n",
              "      <td>NaN</td>\n",
              "      <td>Ubisoft</td>\n",
              "      <td>E</td>\n",
              "    </tr>\n",
              "    <tr>\n",
              "      <th>14086</th>\n",
              "      <td>Phantasy Star Online 2 Episode 4: Deluxe Package</td>\n",
              "      <td>PS4</td>\n",
              "      <td>2017.0</td>\n",
              "      <td>Role-Playing</td>\n",
              "      <td>Sega</td>\n",
              "      <td>0.00</td>\n",
              "      <td>0.0</td>\n",
              "      <td>0.04</td>\n",
              "      <td>0.00</td>\n",
              "      <td>0.04</td>\n",
              "      <td>NaN</td>\n",
              "      <td>NaN</td>\n",
              "      <td>NaN</td>\n",
              "      <td>NaN</td>\n",
              "      <td>NaN</td>\n",
              "      <td>NaN</td>\n",
              "    </tr>\n",
              "    <tr>\n",
              "      <th>16222</th>\n",
              "      <td>Phantasy Star Online 2 Episode 4: Deluxe Package</td>\n",
              "      <td>PSV</td>\n",
              "      <td>2017.0</td>\n",
              "      <td>Role-Playing</td>\n",
              "      <td>Sega</td>\n",
              "      <td>0.00</td>\n",
              "      <td>0.0</td>\n",
              "      <td>0.01</td>\n",
              "      <td>0.00</td>\n",
              "      <td>0.01</td>\n",
              "      <td>NaN</td>\n",
              "      <td>NaN</td>\n",
              "      <td>NaN</td>\n",
              "      <td>NaN</td>\n",
              "      <td>NaN</td>\n",
              "      <td>NaN</td>\n",
              "    </tr>\n",
              "    <tr>\n",
              "      <th>16385</th>\n",
              "      <td>Brothers Conflict: Precious Baby</td>\n",
              "      <td>PSV</td>\n",
              "      <td>2017.0</td>\n",
              "      <td>Action</td>\n",
              "      <td>Idea Factory</td>\n",
              "      <td>0.00</td>\n",
              "      <td>0.0</td>\n",
              "      <td>0.01</td>\n",
              "      <td>0.00</td>\n",
              "      <td>0.01</td>\n",
              "      <td>NaN</td>\n",
              "      <td>NaN</td>\n",
              "      <td>NaN</td>\n",
              "      <td>NaN</td>\n",
              "      <td>NaN</td>\n",
              "      <td>NaN</td>\n",
              "    </tr>\n",
              "  </tbody>\n",
              "</table>\n",
              "</div>\n",
              "      <button class=\"colab-df-convert\" onclick=\"convertToInteractive('df-9883707f-e641-454b-923b-270da8abdc59')\"\n",
              "              title=\"Convert this dataframe to an interactive table.\"\n",
              "              style=\"display:none;\">\n",
              "        \n",
              "  <svg xmlns=\"http://www.w3.org/2000/svg\" height=\"24px\"viewBox=\"0 0 24 24\"\n",
              "       width=\"24px\">\n",
              "    <path d=\"M0 0h24v24H0V0z\" fill=\"none\"/>\n",
              "    <path d=\"M18.56 5.44l.94 2.06.94-2.06 2.06-.94-2.06-.94-.94-2.06-.94 2.06-2.06.94zm-11 1L8.5 8.5l.94-2.06 2.06-.94-2.06-.94L8.5 2.5l-.94 2.06-2.06.94zm10 10l.94 2.06.94-2.06 2.06-.94-2.06-.94-.94-2.06-.94 2.06-2.06.94z\"/><path d=\"M17.41 7.96l-1.37-1.37c-.4-.4-.92-.59-1.43-.59-.52 0-1.04.2-1.43.59L10.3 9.45l-7.72 7.72c-.78.78-.78 2.05 0 2.83L4 21.41c.39.39.9.59 1.41.59.51 0 1.02-.2 1.41-.59l7.78-7.78 2.81-2.81c.8-.78.8-2.07 0-2.86zM5.41 20L4 18.59l7.72-7.72 1.47 1.35L5.41 20z\"/>\n",
              "  </svg>\n",
              "      </button>\n",
              "      \n",
              "  <style>\n",
              "    .colab-df-container {\n",
              "      display:flex;\n",
              "      flex-wrap:wrap;\n",
              "      gap: 12px;\n",
              "    }\n",
              "\n",
              "    .colab-df-convert {\n",
              "      background-color: #E8F0FE;\n",
              "      border: none;\n",
              "      border-radius: 50%;\n",
              "      cursor: pointer;\n",
              "      display: none;\n",
              "      fill: #1967D2;\n",
              "      height: 32px;\n",
              "      padding: 0 0 0 0;\n",
              "      width: 32px;\n",
              "    }\n",
              "\n",
              "    .colab-df-convert:hover {\n",
              "      background-color: #E2EBFA;\n",
              "      box-shadow: 0px 1px 2px rgba(60, 64, 67, 0.3), 0px 1px 3px 1px rgba(60, 64, 67, 0.15);\n",
              "      fill: #174EA6;\n",
              "    }\n",
              "\n",
              "    [theme=dark] .colab-df-convert {\n",
              "      background-color: #3B4455;\n",
              "      fill: #D2E3FC;\n",
              "    }\n",
              "\n",
              "    [theme=dark] .colab-df-convert:hover {\n",
              "      background-color: #434B5C;\n",
              "      box-shadow: 0px 1px 3px 1px rgba(0, 0, 0, 0.15);\n",
              "      filter: drop-shadow(0px 1px 2px rgba(0, 0, 0, 0.3));\n",
              "      fill: #FFFFFF;\n",
              "    }\n",
              "  </style>\n",
              "\n",
              "      <script>\n",
              "        const buttonEl =\n",
              "          document.querySelector('#df-9883707f-e641-454b-923b-270da8abdc59 button.colab-df-convert');\n",
              "        buttonEl.style.display =\n",
              "          google.colab.kernel.accessAllowed ? 'block' : 'none';\n",
              "\n",
              "        async function convertToInteractive(key) {\n",
              "          const element = document.querySelector('#df-9883707f-e641-454b-923b-270da8abdc59');\n",
              "          const dataTable =\n",
              "            await google.colab.kernel.invokeFunction('convertToInteractive',\n",
              "                                                     [key], {});\n",
              "          if (!dataTable) return;\n",
              "\n",
              "          const docLinkHtml = 'Like what you see? Visit the ' +\n",
              "            '<a target=\"_blank\" href=https://colab.research.google.com/notebooks/data_table.ipynb>data table notebook</a>'\n",
              "            + ' to learn more about interactive tables.';\n",
              "          element.innerHTML = '';\n",
              "          dataTable['output_type'] = 'display_data';\n",
              "          await google.colab.output.renderOutput(dataTable, element);\n",
              "          const docLink = document.createElement('div');\n",
              "          docLink.innerHTML = docLinkHtml;\n",
              "          element.appendChild(docLink);\n",
              "        }\n",
              "      </script>\n",
              "    </div>\n",
              "  </div>\n",
              "  "
            ]
          },
          "metadata": {},
          "execution_count": 15
        }
      ]
    },
    {
      "cell_type": "code",
      "source": [
        "#Remove Wii Sports since it's skews the sports genre data. Wii sports was a games bundled with the Wii and reflects more of the success of that console than that genre\n",
        "tbl = df.drop(df[df['Name'] == \"Wii Sports\"].index)\n",
        "# Remove rows that appear to be truly bad data due to missing game name and genre\n",
        "tbl.drop(tbl[tbl['Name'].isna()].index, inplace=True)"
      ],
      "metadata": {
        "id": "f0ARSzrio-Vy"
      },
      "execution_count": null,
      "outputs": []
    },
    {
      "cell_type": "markdown",
      "source": [
        "After removing Wii Sports we can see that sports no longer has the category with the highest selling game in it.  Also the plot becomes much more compact."
      ],
      "metadata": {
        "id": "JozUtTk9dDPw"
      }
    },
    {
      "cell_type": "code",
      "source": [
        "sns.catplot(x=\"Genre\", y=\"Global_Sales\", kind=\"box\", data=tbl)\n",
        "plt.xticks(rotation=45)"
      ],
      "metadata": {
        "id": "FDVQ9WDE7exO",
        "colab": {
          "base_uri": "https://localhost:8080/",
          "height": 444
        },
        "outputId": "1c288bd9-8e23-44ab-927e-72f9c379753a"
      },
      "execution_count": null,
      "outputs": [
        {
          "output_type": "execute_result",
          "data": {
            "text/plain": [
              "(array([ 0,  1,  2,  3,  4,  5,  6,  7,  8,  9, 10, 11]),\n",
              " <a list of 12 Text major ticklabel objects>)"
            ]
          },
          "metadata": {},
          "execution_count": 17
        },
        {
          "output_type": "display_data",
          "data": {
            "text/plain": [
              "<Figure size 360x360 with 1 Axes>"
            ],
            "image/png": "[encoded data removed]"
          },
          "metadata": {
            "needs_background": "light"
          }
        }
      ]
    },
    {
      "cell_type": "markdown",
      "source": [
        "<h1>Methods</h1>\n",
        "<p>In order to test our hypothesis we will utilize kNN regression and also linear regression. We will examine the MSE/RMSE of our predictions to assess the accuracy of our model.\n",
        "\n",
        "In order to do this we will use both sales data and genre data. Since genre is categorical we will need to convert it into numerical data using the dummies method.<p>"
      ],
      "metadata": {
        "id": "ww_ZJlbbqjyH"
      }
    },
    {
      "cell_type": "code",
      "source": [
        "# Convert the categorical feature Genre into numerical\n",
        "tbl = pd.get_dummies(tbl, columns =['Genre'], drop_first = True)"
      ],
      "metadata": {
        "id": "trrdqtWa0i7K"
      },
      "execution_count": null,
      "outputs": []
    },
    {
      "cell_type": "markdown",
      "source": [
        "<h1>KNN Regression<h1>\n",
        "\n",
        "<h2>Test MSE and RMSE of Global sales<h2>\n",
        "\n",
        "<p>The MSE and RMSE is pretty high when attempting to predict global sales<p>"
      ],
      "metadata": {
        "id": "nb_nbibzdfbF"
      }
    },
    {
      "cell_type": "code",
      "source": [
        "predictors = ['Genre_Adventure', 'Genre_Fighting', 'Genre_Misc', 'Genre_Platform',\n",
        "              'Genre_Puzzle', 'Genre_Racing', 'Genre_Role-Playing', 'Genre_Shooter',\n",
        "              'Genre_Simulation', 'Genre_Sports', 'Genre_Strategy']\n",
        "target = ['Global_Sales']\n",
        "\n",
        "X = (tbl[predictors]).values\n",
        "    \n",
        "y = (tbl['Global_Sales']).values.astype(int)\n",
        "\n",
        "#70%--30% split of data into a Training Set\n",
        "X_train, X_test, y_train, y_test = train_test_split(X, y, test_size=0.30, random_state=42)\n",
        "\n",
        "scaler = StandardScaler()\n",
        "\n",
        "X_train = scaler.fit_transform(X_train)\n",
        "X_test  = scaler.transform(X_test)\n",
        "reg = KNeighborsRegressor()\n",
        "reg.fit(X_train, y_train)\n",
        "\n",
        "predictions = reg.predict(X_test)\n",
        "MSE  = ((predictions - y_test)**2).mean()\n",
        "RMSE = math.sqrt(MSE)\n",
        "print('MSE: {0:.3f}'. format(MSE))\n",
        "print('RMSE: {0:.3f}'. format(RMSE))"
      ],
      "metadata": {
        "id": "yJpJUHEv-ReY",
        "colab": {
          "base_uri": "https://localhost:8080/"
        },
        "outputId": "ff4785b7-18d9-4673-f6e9-b3a5490ed9d6"
      },
      "execution_count": null,
      "outputs": [
        {
          "output_type": "stream",
          "name": "stdout",
          "text": [
            "MSE: 1.992\n",
            "RMSE: 1.411\n"
          ]
        }
      ]
    },
    {
      "cell_type": "markdown",
      "source": [
        "<h1>KNN Regression</h1>\n",
        "<h2>Test MSE and RMSE After Adding Critic Score Feature</h2>\n",
        "<p>The MSE and RMSE did not improve by addding this feature</p>"
      ],
      "metadata": {
        "id": "uzBzL944vGfN"
      }
    },
    {
      "cell_type": "code",
      "source": [
        "# Let's include Critic Score to try and improve the accuracy\n",
        "# Will need to exclude rows where critic score is not available since there are many rows missing data\n",
        "tbl2 = tbl.drop(tbl[tbl['Critic_Score'].isna()].index)\n",
        "\n",
        "# Then make sure critic score is included as a predictor\n",
        "predictors = ['Genre_Adventure', 'Genre_Fighting', 'Genre_Misc', 'Genre_Platform',\n",
        "              'Genre_Puzzle', 'Genre_Racing', 'Genre_Role-Playing', 'Genre_Shooter',\n",
        "              'Genre_Simulation', 'Genre_Sports', 'Genre_Strategy', 'Critic_Score']\n",
        "target = ['Global_Sales']\n",
        "\n",
        "X = (tbl2[predictors]).values\n",
        "    \n",
        "y = (tbl2['Global_Sales']).values.astype(int)\n",
        "\n",
        "#70%--30% split of data into a Training Set\n",
        "X_train, X_test, y_train, y_test = train_test_split(X, y, test_size=0.30, random_state=42)\n",
        "\n",
        "scaler = StandardScaler()\n",
        "\n",
        "X_train = scaler.fit_transform(X_train)\n",
        "X_test  = scaler.transform(X_test)\n",
        "reg = KNeighborsRegressor()\n",
        "reg.fit(X_train, y_train)\n",
        "\n",
        "predictions = reg.predict(X_test)\n",
        "MSE  = ((predictions - y_test)**2).mean()\n",
        "RMSE = math.sqrt(MSE)\n",
        "print('MSE: {0:.3f}'. format(MSE))\n",
        "print('RMSE: {0:.3f}'. format(RMSE))"
      ],
      "metadata": {
        "id": "vTEiMM0n3O24",
        "colab": {
          "base_uri": "https://localhost:8080/"
        },
        "outputId": "feb7a5ff-a6f6-4657-c3b3-c6329c0492a6"
      },
      "execution_count": null,
      "outputs": [
        {
          "output_type": "stream",
          "name": "stdout",
          "text": [
            "MSE: 2.100\n",
            "RMSE: 1.449\n"
          ]
        }
      ]
    },
    {
      "cell_type": "markdown",
      "source": [
        "<h2>Predicting one region's sales based on the sales of another<h2>\n",
        "<p>We will now move on to trying to predict the sales in one region based on the sales of another. We expect this to be an important question for video game companies to answer as they often will release a game in one region and then need to make decisions about making it availble in another.<p>\n",
        "\n",
        "<p>These decisions have a great deal of risk associated to them as there are varying degrees of resources they can choose to devout to making region specific updates and region specific marketing. Gaining insight into potential sales in a target region can assist in making these decisions.<p>"
      ],
      "metadata": {
        "id": "UsFwOC0B-p8S"
      }
    },
    {
      "cell_type": "markdown",
      "source": [
        "<h2>Method to evaluate region by region<h2>\n",
        "<p>The below method will assist in being able to paramaterize the kNN regression model. We can pass in our target region and the region(s) to use as predictors. In this way we can test all combinations of potential target regions and predictor regions.<p>"
      ],
      "metadata": {
        "id": "oqJVFw7ZAEEk"
      }
    },
    {
      "cell_type": "code",
      "source": [
        "def region_sale_predict(target, predictors, tbl):\n",
        "  X = tbl[predictors].values\n",
        "  y = tbl[target].values\n",
        "\n",
        "  X_train, X_test, y_train, y_test = train_test_split(X, y, test_size=0.30, random_state=42)\n",
        "\n",
        "  scaler = StandardScaler()\n",
        "  X_train = scaler.fit_transform(X_train)\n",
        "  X_test = scaler.transform(X_test)\n",
        "  reg = KNeighborsRegressor()\n",
        "  reg.fit(X_train, y_train)\n",
        "  predicted = reg.predict(X_test)\n",
        "\n",
        "  actual = y_test\n",
        "\n",
        "  MSE = ((predicted - actual)**2).mean()\n",
        "  RMSE = np.sqrt(MSE)\n",
        "  #print('MSE: {0:.3f}'. format(MSE))\n",
        "  #print('RMSE: {0:.3f}'. format(RMSE))\n",
        "\n",
        "  return MSE, RMSE"
      ],
      "metadata": {
        "id": "QARQYqf_mBs5"
      },
      "execution_count": null,
      "outputs": []
    },
    {
      "cell_type": "code",
      "source": [
        "NA_mse, NA_rmse = region_sale_predict('NA_Sales', ['EU_Sales', 'Genre_Adventure', 'Genre_Fighting', 'Genre_Misc', 'Genre_Platform',\n",
        "              'Genre_Puzzle', 'Genre_Racing', 'Genre_Role-Playing', 'Genre_Shooter',\n",
        "              'Genre_Simulation', 'Genre_Sports', 'Genre_Strategy'], tbl)"
      ],
      "metadata": {
        "id": "DRkOY5xVmbS2"
      },
      "execution_count": null,
      "outputs": []
    },
    {
      "cell_type": "code",
      "source": [
        "regions = ['NA_Sales', 'EU_Sales', 'JP_Sales', 'Other_Sales']\n",
        "region_results = pd.DataFrame({'region_target':[], 'region_source':[], 'mse':[], 'rmse':[]})\n",
        "for region in regions:\n",
        "  for region2 in regions:\n",
        "    if region != region2:\n",
        "      predictors = np.array([region2])\n",
        "      mses=[]\n",
        "      rmses=[]\n",
        "      mse, rmse = region_sale_predict(region, [region2, 'Genre_Adventure', 'Genre_Fighting', 'Genre_Misc', 'Genre_Platform',\n",
        "              'Genre_Puzzle', 'Genre_Racing', 'Genre_Role-Playing', 'Genre_Shooter',\n",
        "              'Genre_Simulation', 'Genre_Sports', 'Genre_Strategy'], tbl)\n",
        "      mses.append(mse)\n",
        "      rmses.append(rmse)\n",
        "      region2_mse = np.concatenate([[region2],mses])\n",
        "      region2_rmse = np.concatenate([[region2],rmses])\n",
        "      region_results = region_results.append({'region_target':region, 'region_source':region2, 'mse':mse.round(3), 'rmse':rmse.round(3)}, ignore_index=True)\n",
        "      print('{} predicted sales based on {} known sales: MSE {}, RMSE {}'.format(region, region2, mse.round(3), rmse.round(3)))\n",
        "\n",
        "  #region_mse = np.vstack([region_mse,np.concatenate([[region], region2_mse])])\n",
        "  #region_rmse = np.vstack([region_rmse,np.concatenate([[region], region2_rmse])])"
      ],
      "metadata": {
        "colab": {
          "base_uri": "https://localhost:8080/"
        },
        "id": "xSmd3S3GzVH9",
        "outputId": "48d7c2ef-8d43-4e43-f3d7-5c5885eeb31b"
      },
      "execution_count": null,
      "outputs": [
        {
          "output_type": "stream",
          "name": "stdout",
          "text": [
            "NA_Sales predicted sales based on EU_Sales known sales: MSE 0.378, RMSE 0.615\n",
            "NA_Sales predicted sales based on JP_Sales known sales: MSE 0.563, RMSE 0.75\n",
            "NA_Sales predicted sales based on Other_Sales known sales: MSE 0.468, RMSE 0.684\n",
            "EU_Sales predicted sales based on NA_Sales known sales: MSE 0.097, RMSE 0.312\n",
            "EU_Sales predicted sales based on JP_Sales known sales: MSE 0.173, RMSE 0.416\n",
            "EU_Sales predicted sales based on Other_Sales known sales: MSE 0.072, RMSE 0.269\n",
            "JP_Sales predicted sales based on NA_Sales known sales: MSE 0.078, RMSE 0.279\n",
            "JP_Sales predicted sales based on EU_Sales known sales: MSE 0.079, RMSE 0.281\n",
            "JP_Sales predicted sales based on Other_Sales known sales: MSE 0.102, RMSE 0.319\n",
            "Other_Sales predicted sales based on NA_Sales known sales: MSE 0.024, RMSE 0.154\n",
            "Other_Sales predicted sales based on EU_Sales known sales: MSE 0.017, RMSE 0.13\n",
            "Other_Sales predicted sales based on JP_Sales known sales: MSE 0.031, RMSE 0.176\n"
          ]
        }
      ]
    },
    {
      "cell_type": "code",
      "source": [
        "region_results"
      ],
      "metadata": {
        "colab": {
          "base_uri": "https://localhost:8080/",
          "height": 421
        },
        "id": "mappIO1c8Igy",
        "outputId": "8d25a842-9fc0-43b1-d80e-00c467be3483"
      },
      "execution_count": null,
      "outputs": [
        {
          "output_type": "execute_result",
          "data": {
            "text/plain": [
              "   region_target region_source    mse   rmse\n",
              "0       NA_Sales      EU_Sales  0.378  0.615\n",
              "1       NA_Sales      JP_Sales  0.563  0.750\n",
              "2       NA_Sales   Other_Sales  0.468  0.684\n",
              "3       EU_Sales      NA_Sales  0.097  0.312\n",
              "4       EU_Sales      JP_Sales  0.173  0.416\n",
              "5       EU_Sales   Other_Sales  0.072  0.269\n",
              "6       JP_Sales      NA_Sales  0.078  0.279\n",
              "7       JP_Sales      EU_Sales  0.079  0.281\n",
              "8       JP_Sales   Other_Sales  0.102  0.319\n",
              "9    Other_Sales      NA_Sales  0.024  0.154\n",
              "10   Other_Sales      EU_Sales  0.017  0.130\n",
              "11   Other_Sales      JP_Sales  0.031  0.176"
            ],
            "text/html": [
              "\n",
              "  <div id=\"df-6001285a-5587-468c-918b-3c71b0e061b1\">\n",
              "    <div class=\"colab-df-container\">\n",
              "      <div>\n",
              "<style scoped>\n",
              "    .dataframe tbody tr th:only-of-type {\n",
              "        vertical-align: middle;\n",
              "    }\n",
              "\n",
              "    .dataframe tbody tr th {\n",
              "        vertical-align: top;\n",
              "    }\n",
              "\n",
              "    .dataframe thead th {\n",
              "        text-align: right;\n",
              "    }\n",
              "</style>\n",
              "<table border=\"1\" class=\"dataframe\">\n",
              "  <thead>\n",
              "    <tr style=\"text-align: right;\">\n",
              "      <th></th>\n",
              "      <th>region_target</th>\n",
              "      <th>region_source</th>\n",
              "      <th>mse</th>\n",
              "      <th>rmse</th>\n",
              "    </tr>\n",
              "  </thead>\n",
              "  <tbody>\n",
              "    <tr>\n",
              "      <th>0</th>\n",
              "      <td>NA_Sales</td>\n",
              "      <td>EU_Sales</td>\n",
              "      <td>0.378</td>\n",
              "      <td>0.615</td>\n",
              "    </tr>\n",
              "    <tr>\n",
              "      <th>1</th>\n",
              "      <td>NA_Sales</td>\n",
              "      <td>JP_Sales</td>\n",
              "      <td>0.563</td>\n",
              "      <td>0.750</td>\n",
              "    </tr>\n",
              "    <tr>\n",
              "      <th>2</th>\n",
              "      <td>NA_Sales</td>\n",
              "      <td>Other_Sales</td>\n",
              "      <td>0.468</td>\n",
              "      <td>0.684</td>\n",
              "    </tr>\n",
              "    <tr>\n",
              "      <th>3</th>\n",
              "      <td>EU_Sales</td>\n",
              "      <td>NA_Sales</td>\n",
              "      <td>0.097</td>\n",
              "      <td>0.312</td>\n",
              "    </tr>\n",
              "    <tr>\n",
              "      <th>4</th>\n",
              "      <td>EU_Sales</td>\n",
              "      <td>JP_Sales</td>\n",
              "      <td>0.173</td>\n",
              "      <td>0.416</td>\n",
              "    </tr>\n",
              "    <tr>\n",
              "      <th>5</th>\n",
              "      <td>EU_Sales</td>\n",
              "      <td>Other_Sales</td>\n",
              "      <td>0.072</td>\n",
              "      <td>0.269</td>\n",
              "    </tr>\n",
              "    <tr>\n",
              "      <th>6</th>\n",
              "      <td>JP_Sales</td>\n",
              "      <td>NA_Sales</td>\n",
              "      <td>0.078</td>\n",
              "      <td>0.279</td>\n",
              "    </tr>\n",
              "    <tr>\n",
              "      <th>7</th>\n",
              "      <td>JP_Sales</td>\n",
              "      <td>EU_Sales</td>\n",
              "      <td>0.079</td>\n",
              "      <td>0.281</td>\n",
              "    </tr>\n",
              "    <tr>\n",
              "      <th>8</th>\n",
              "      <td>JP_Sales</td>\n",
              "      <td>Other_Sales</td>\n",
              "      <td>0.102</td>\n",
              "      <td>0.319</td>\n",
              "    </tr>\n",
              "    <tr>\n",
              "      <th>9</th>\n",
              "      <td>Other_Sales</td>\n",
              "      <td>NA_Sales</td>\n",
              "      <td>0.024</td>\n",
              "      <td>0.154</td>\n",
              "    </tr>\n",
              "    <tr>\n",
              "      <th>10</th>\n",
              "      <td>Other_Sales</td>\n",
              "      <td>EU_Sales</td>\n",
              "      <td>0.017</td>\n",
              "      <td>0.130</td>\n",
              "    </tr>\n",
              "    <tr>\n",
              "      <th>11</th>\n",
              "      <td>Other_Sales</td>\n",
              "      <td>JP_Sales</td>\n",
              "      <td>0.031</td>\n",
              "      <td>0.176</td>\n",
              "    </tr>\n",
              "  </tbody>\n",
              "</table>\n",
              "</div>\n",
              "      <button class=\"colab-df-convert\" onclick=\"convertToInteractive('df-6001285a-5587-468c-918b-3c71b0e061b1')\"\n",
              "              title=\"Convert this dataframe to an interactive table.\"\n",
              "              style=\"display:none;\">\n",
              "        \n",
              "  <svg xmlns=\"http://www.w3.org/2000/svg\" height=\"24px\"viewBox=\"0 0 24 24\"\n",
              "       width=\"24px\">\n",
              "    <path d=\"M0 0h24v24H0V0z\" fill=\"none\"/>\n",
              "    <path d=\"M18.56 5.44l.94 2.06.94-2.06 2.06-.94-2.06-.94-.94-2.06-.94 2.06-2.06.94zm-11 1L8.5 8.5l.94-2.06 2.06-.94-2.06-.94L8.5 2.5l-.94 2.06-2.06.94zm10 10l.94 2.06.94-2.06 2.06-.94-2.06-.94-.94-2.06-.94 2.06-2.06.94z\"/><path d=\"M17.41 7.96l-1.37-1.37c-.4-.4-.92-.59-1.43-.59-.52 0-1.04.2-1.43.59L10.3 9.45l-7.72 7.72c-.78.78-.78 2.05 0 2.83L4 21.41c.39.39.9.59 1.41.59.51 0 1.02-.2 1.41-.59l7.78-7.78 2.81-2.81c.8-.78.8-2.07 0-2.86zM5.41 20L4 18.59l7.72-7.72 1.47 1.35L5.41 20z\"/>\n",
              "  </svg>\n",
              "      </button>\n",
              "      \n",
              "  <style>\n",
              "    .colab-df-container {\n",
              "      display:flex;\n",
              "      flex-wrap:wrap;\n",
              "      gap: 12px;\n",
              "    }\n",
              "\n",
              "    .colab-df-convert {\n",
              "      background-color: #E8F0FE;\n",
              "      border: none;\n",
              "      border-radius: 50%;\n",
              "      cursor: pointer;\n",
              "      display: none;\n",
              "      fill: #1967D2;\n",
              "      height: 32px;\n",
              "      padding: 0 0 0 0;\n",
              "      width: 32px;\n",
              "    }\n",
              "\n",
              "    .colab-df-convert:hover {\n",
              "      background-color: #E2EBFA;\n",
              "      box-shadow: 0px 1px 2px rgba(60, 64, 67, 0.3), 0px 1px 3px 1px rgba(60, 64, 67, 0.15);\n",
              "      fill: #174EA6;\n",
              "    }\n",
              "\n",
              "    [theme=dark] .colab-df-convert {\n",
              "      background-color: #3B4455;\n",
              "      fill: #D2E3FC;\n",
              "    }\n",
              "\n",
              "    [theme=dark] .colab-df-convert:hover {\n",
              "      background-color: #434B5C;\n",
              "      box-shadow: 0px 1px 3px 1px rgba(0, 0, 0, 0.15);\n",
              "      filter: drop-shadow(0px 1px 2px rgba(0, 0, 0, 0.3));\n",
              "      fill: #FFFFFF;\n",
              "    }\n",
              "  </style>\n",
              "\n",
              "      <script>\n",
              "        const buttonEl =\n",
              "          document.querySelector('#df-6001285a-5587-468c-918b-3c71b0e061b1 button.colab-df-convert');\n",
              "        buttonEl.style.display =\n",
              "          google.colab.kernel.accessAllowed ? 'block' : 'none';\n",
              "\n",
              "        async function convertToInteractive(key) {\n",
              "          const element = document.querySelector('#df-6001285a-5587-468c-918b-3c71b0e061b1');\n",
              "          const dataTable =\n",
              "            await google.colab.kernel.invokeFunction('convertToInteractive',\n",
              "                                                     [key], {});\n",
              "          if (!dataTable) return;\n",
              "\n",
              "          const docLinkHtml = 'Like what you see? Visit the ' +\n",
              "            '<a target=\"_blank\" href=https://colab.research.google.com/notebooks/data_table.ipynb>data table notebook</a>'\n",
              "            + ' to learn more about interactive tables.';\n",
              "          element.innerHTML = '';\n",
              "          dataTable['output_type'] = 'display_data';\n",
              "          await google.colab.output.renderOutput(dataTable, element);\n",
              "          const docLink = document.createElement('div');\n",
              "          docLink.innerHTML = docLinkHtml;\n",
              "          element.appendChild(docLink);\n",
              "        }\n",
              "      </script>\n",
              "    </div>\n",
              "  </div>\n",
              "  "
            ]
          },
          "metadata": {},
          "execution_count": 24
        }
      ]
    },
    {
      "cell_type": "markdown",
      "source": [
        "<h1>Bar Plots Reveal Impact Of Sales From One Region On Another</h1>\n",
        "<p>The bar plots reveal the following:</p>\n",
        "<ul>\n",
        "    <li>North American Sales can be best predicted using European Sales data</li>\n",
        "    <li>European Sales can be best predicted using Other Sales data</li>\n",
        "    <li>Japan Sales can be best predicted using North American Sales data</li>\n",
        "    <li>Other Sales can be best predicted using European Sales data</li>\n",
        "</ul>\n",
        "<br>"
      ],
      "metadata": {
        "id": "IUJIRQ7xKDWo"
      }
    },
    {
      "cell_type": "code",
      "source": [
        "plt.bar(x='EU_Sales', height=region_results.iloc[0]['rmse'])\n",
        "plt.bar(x='JP_Sales', height=region_results.iloc[1]['rmse'])\n",
        "plt.bar(x='Other_Sales', height=region_results.iloc[2]['rmse'])\n",
        "plt.title('NA_Sales RMSE')\n",
        "\n",
        "#North American Sales can be best predicted using European Sales Data"
      ],
      "metadata": {
        "colab": {
          "base_uri": "https://localhost:8080/",
          "height": 299
        },
        "id": "rgEM3PSfD3ba",
        "outputId": "9a9d2a1c-bda0-4ebd-cac7-5c29049f1f0a"
      },
      "execution_count": null,
      "outputs": [
        {
          "output_type": "execute_result",
          "data": {
            "text/plain": [
              "Text(0.5, 1.0, 'NA_Sales RMSE')"
            ]
          },
          "metadata": {},
          "execution_count": 25
        },
        {
          "output_type": "display_data",
          "data": {
            "text/plain": [
              "<Figure size 432x288 with 1 Axes>"
            ],
            "image/png": "[encoded data removed]"
          },
          "metadata": {
            "needs_background": "light"
          }
        }
      ]
    },
    {
      "cell_type": "code",
      "source": [
        "plt.title('EU_Sales RMSE')\n",
        "plt.bar(x='NA_Sales', height=region_results.iloc[3]['rmse'])\n",
        "plt.bar(x='JP_Sales', height=region_results.iloc[4]['rmse'])\n",
        "plt.bar(x='Other_Sales', height=region_results.iloc[5]['rmse'])\n",
        "\n",
        "#European Sales can be best predicted using Other Sales Data"
      ],
      "metadata": {
        "colab": {
          "base_uri": "https://localhost:8080/",
          "height": 299
        },
        "id": "Akuu18yND35L",
        "outputId": "74c0184c-a306-46f8-e2db-6aff7a00b6c8"
      },
      "execution_count": null,
      "outputs": [
        {
          "output_type": "execute_result",
          "data": {
            "text/plain": [
              "<BarContainer object of 1 artists>"
            ]
          },
          "metadata": {},
          "execution_count": 26
        },
        {
          "output_type": "display_data",
          "data": {
            "text/plain": [
              "<Figure size 432x288 with 1 Axes>"
            ],
            "image/png": "[encoded data removed]"
          },
          "metadata": {
            "needs_background": "light"
          }
        }
      ]
    },
    {
      "cell_type": "code",
      "source": [
        "plt.title('JP_Sales RMSE')\n",
        "plt.bar(x='NA_Sales', height=region_results.iloc[6]['rmse'])\n",
        "plt.bar(x='EU_Sales', height=region_results.iloc[7]['rmse'])\n",
        "plt.bar(x='Other_Sales', height=region_results.iloc[8]['rmse'])\n",
        "\n",
        "#Japan Sales can be best predicted using North American Sales Data"
      ],
      "metadata": {
        "colab": {
          "base_uri": "https://localhost:8080/",
          "height": 299
        },
        "id": "YBWnJ9rqD4gT",
        "outputId": "1729c2a2-caf6-4e56-f526-87e5b9240f41"
      },
      "execution_count": null,
      "outputs": [
        {
          "output_type": "execute_result",
          "data": {
            "text/plain": [
              "<BarContainer object of 1 artists>"
            ]
          },
          "metadata": {},
          "execution_count": 27
        },
        {
          "output_type": "display_data",
          "data": {
            "text/plain": [
              "<Figure size 432x288 with 1 Axes>"
            ],
            "image/png": "[encoded data removed]"
          },
          "metadata": {
            "needs_background": "light"
          }
        }
      ]
    },
    {
      "cell_type": "code",
      "source": [
        "plt.title('Other_Sales RMSE')\n",
        "plt.bar(x='NA_Sales', height=region_results.iloc[9]['rmse'])\n",
        "plt.bar(x='EU_Sales', height=region_results.iloc[10]['rmse'])\n",
        "plt.bar(x='JP_Sales', height=region_results.iloc[11]['rmse'])\n",
        "\n",
        "#Other Sales can be best predicted using European Sales Data"
      ],
      "metadata": {
        "colab": {
          "base_uri": "https://localhost:8080/",
          "height": 299
        },
        "id": "zhYhKvUwEBWn",
        "outputId": "69ab32bc-ba40-4ae6-eca0-ee84f9d6f6b0"
      },
      "execution_count": null,
      "outputs": [
        {
          "output_type": "execute_result",
          "data": {
            "text/plain": [
              "<BarContainer object of 1 artists>"
            ]
          },
          "metadata": {},
          "execution_count": 28
        },
        {
          "output_type": "display_data",
          "data": {
            "text/plain": [
              "<Figure size 432x288 with 1 Axes>"
            ],
            "image/png": "[encoded data removed]"
          },
          "metadata": {
            "needs_background": "light"
          }
        }
      ]
    },
    {
      "cell_type": "markdown",
      "source": [
        "<h1>Modifying <b>region_sale_predict</b> To Include Arguements for K and Weights</h1>"
      ],
      "metadata": {
        "id": "nygsza8QwZ0R"
      }
    },
    {
      "cell_type": "code",
      "source": [
        "def region_sale_predict_kw(target, predictors, tbl, k_value, w_value):\n",
        "  X = tbl[predictors].values\n",
        "  y = tbl[target].values\n",
        "\n",
        "  X_train, X_test, y_train, y_test = train_test_split(X, y, test_size=0.30, random_state=42)\n",
        "\n",
        "  scaler = StandardScaler()\n",
        "  X_train = scaler.fit_transform(X_train)\n",
        "  X_test = scaler.transform(X_test)\n",
        "  reg = KNeighborsRegressor(n_neighbors=k_value, weights=w_value)\n",
        "  reg.fit(X_train, y_train)\n",
        "  predicted = reg.predict(X_test)\n",
        "\n",
        "  actual = y_test\n",
        "\n",
        "  MSE = ((predicted - actual)**2).mean()\n",
        "  RMSE = np.sqrt(MSE)\n",
        "  #print('MSE: {0:.3f}'. format(MSE))\n",
        "  #print('RMSE: {0:.3f}'. format(RMSE))\n",
        "\n",
        "  return MSE, RMSE"
      ],
      "metadata": {
        "id": "ubu8eUhkwR3X"
      },
      "execution_count": null,
      "outputs": []
    },
    {
      "cell_type": "markdown",
      "source": [
        "<h1>KNN Regression With K=9 and Weights = distance<h1>"
      ],
      "metadata": {
        "id": "4Trbdpoo0VtE"
      }
    },
    {
      "cell_type": "code",
      "source": [
        "k = 9\n",
        "weights = 'distance'\n",
        "#weights = 'uniform'\n",
        "regions = ['NA_Sales', 'EU_Sales', 'JP_Sales', 'Other_Sales']\n",
        "region_results2 = pd.DataFrame({'region_target':[], 'region_source':[], 'mse':[], 'rmse':[]})\n",
        "for region in regions:\n",
        "  for region2 in regions:\n",
        "    if region != region2:\n",
        "      predictors = np.array([region2])\n",
        "\n",
        "      mse, rmse = region_sale_predict(region, [region2, 'Genre_Adventure', 'Genre_Fighting', 'Genre_Misc', 'Genre_Platform',\n",
        "              'Genre_Puzzle', 'Genre_Racing', 'Genre_Role-Playing', 'Genre_Shooter',\n",
        "              'Genre_Simulation', 'Genre_Sports', 'Genre_Strategy'], tbl)\n",
        "\n",
        "      region_results2 = region_results.append({'region_target':region, 'region_source':region2, 'mse':mse.round(3), 'rmse':rmse.round(3)}, ignore_index=True)\n",
        "      print('{} predicted sales based on {} known sales: MSE {}, RMSE {}'.format(region, region2, mse.round(3), rmse.round(3)))"
      ],
      "metadata": {
        "colab": {
          "base_uri": "https://localhost:8080/"
        },
        "id": "l_r1QwsUwy1K",
        "outputId": "acf17315-5722-4ecc-ff18-106e18d4b02f"
      },
      "execution_count": null,
      "outputs": [
        {
          "output_type": "stream",
          "name": "stdout",
          "text": [
            "NA_Sales predicted sales based on EU_Sales known sales: MSE 0.378, RMSE 0.615\n",
            "NA_Sales predicted sales based on JP_Sales known sales: MSE 0.563, RMSE 0.75\n",
            "NA_Sales predicted sales based on Other_Sales known sales: MSE 0.468, RMSE 0.684\n",
            "EU_Sales predicted sales based on NA_Sales known sales: MSE 0.097, RMSE 0.312\n",
            "EU_Sales predicted sales based on JP_Sales known sales: MSE 0.173, RMSE 0.416\n",
            "EU_Sales predicted sales based on Other_Sales known sales: MSE 0.072, RMSE 0.269\n",
            "JP_Sales predicted sales based on NA_Sales known sales: MSE 0.078, RMSE 0.279\n",
            "JP_Sales predicted sales based on EU_Sales known sales: MSE 0.079, RMSE 0.281\n",
            "JP_Sales predicted sales based on Other_Sales known sales: MSE 0.102, RMSE 0.319\n",
            "Other_Sales predicted sales based on NA_Sales known sales: MSE 0.024, RMSE 0.154\n",
            "Other_Sales predicted sales based on EU_Sales known sales: MSE 0.017, RMSE 0.13\n",
            "Other_Sales predicted sales based on JP_Sales known sales: MSE 0.031, RMSE 0.176\n"
          ]
        }
      ]
    },
    {
      "cell_type": "markdown",
      "source": [
        "Increasing the value of k does not lead to significant improvement in MSE/RMSE. In some instances it worsens the predictions."
      ],
      "metadata": {
        "id": "TCFutyMoeGPf"
      }
    },
    {
      "cell_type": "code",
      "source": [
        "region_results2"
      ],
      "metadata": {
        "id": "Ky0HZ6Ibyb9H",
        "colab": {
          "base_uri": "https://localhost:8080/",
          "height": 452
        },
        "outputId": "a1205ede-5a7e-437d-88a8-f47fecfb0391"
      },
      "execution_count": null,
      "outputs": [
        {
          "output_type": "execute_result",
          "data": {
            "text/plain": [
              "   region_target region_source    mse   rmse\n",
              "0       NA_Sales      EU_Sales  0.378  0.615\n",
              "1       NA_Sales      JP_Sales  0.563  0.750\n",
              "2       NA_Sales   Other_Sales  0.468  0.684\n",
              "3       EU_Sales      NA_Sales  0.097  0.312\n",
              "4       EU_Sales      JP_Sales  0.173  0.416\n",
              "5       EU_Sales   Other_Sales  0.072  0.269\n",
              "6       JP_Sales      NA_Sales  0.078  0.279\n",
              "7       JP_Sales      EU_Sales  0.079  0.281\n",
              "8       JP_Sales   Other_Sales  0.102  0.319\n",
              "9    Other_Sales      NA_Sales  0.024  0.154\n",
              "10   Other_Sales      EU_Sales  0.017  0.130\n",
              "11   Other_Sales      JP_Sales  0.031  0.176\n",
              "12   Other_Sales      JP_Sales  0.031  0.176"
            ],
            "text/html": [
              "\n",
              "  <div id=\"df-0e8bb800-95c3-4402-b236-7e4d3a0cb917\">\n",
              "    <div class=\"colab-df-container\">\n",
              "      <div>\n",
              "<style scoped>\n",
              "    .dataframe tbody tr th:only-of-type {\n",
              "        vertical-align: middle;\n",
              "    }\n",
              "\n",
              "    .dataframe tbody tr th {\n",
              "        vertical-align: top;\n",
              "    }\n",
              "\n",
              "    .dataframe thead th {\n",
              "        text-align: right;\n",
              "    }\n",
              "</style>\n",
              "<table border=\"1\" class=\"dataframe\">\n",
              "  <thead>\n",
              "    <tr style=\"text-align: right;\">\n",
              "      <th></th>\n",
              "      <th>region_target</th>\n",
              "      <th>region_source</th>\n",
              "      <th>mse</th>\n",
              "      <th>rmse</th>\n",
              "    </tr>\n",
              "  </thead>\n",
              "  <tbody>\n",
              "    <tr>\n",
              "      <th>0</th>\n",
              "      <td>NA_Sales</td>\n",
              "      <td>EU_Sales</td>\n",
              "      <td>0.378</td>\n",
              "      <td>0.615</td>\n",
              "    </tr>\n",
              "    <tr>\n",
              "      <th>1</th>\n",
              "      <td>NA_Sales</td>\n",
              "      <td>JP_Sales</td>\n",
              "      <td>0.563</td>\n",
              "      <td>0.750</td>\n",
              "    </tr>\n",
              "    <tr>\n",
              "      <th>2</th>\n",
              "      <td>NA_Sales</td>\n",
              "      <td>Other_Sales</td>\n",
              "      <td>0.468</td>\n",
              "      <td>0.684</td>\n",
              "    </tr>\n",
              "    <tr>\n",
              "      <th>3</th>\n",
              "      <td>EU_Sales</td>\n",
              "      <td>NA_Sales</td>\n",
              "      <td>0.097</td>\n",
              "      <td>0.312</td>\n",
              "    </tr>\n",
              "    <tr>\n",
              "      <th>4</th>\n",
              "      <td>EU_Sales</td>\n",
              "      <td>JP_Sales</td>\n",
              "      <td>0.173</td>\n",
              "      <td>0.416</td>\n",
              "    </tr>\n",
              "    <tr>\n",
              "      <th>5</th>\n",
              "      <td>EU_Sales</td>\n",
              "      <td>Other_Sales</td>\n",
              "      <td>0.072</td>\n",
              "      <td>0.269</td>\n",
              "    </tr>\n",
              "    <tr>\n",
              "      <th>6</th>\n",
              "      <td>JP_Sales</td>\n",
              "      <td>NA_Sales</td>\n",
              "      <td>0.078</td>\n",
              "      <td>0.279</td>\n",
              "    </tr>\n",
              "    <tr>\n",
              "      <th>7</th>\n",
              "      <td>JP_Sales</td>\n",
              "      <td>EU_Sales</td>\n",
              "      <td>0.079</td>\n",
              "      <td>0.281</td>\n",
              "    </tr>\n",
              "    <tr>\n",
              "      <th>8</th>\n",
              "      <td>JP_Sales</td>\n",
              "      <td>Other_Sales</td>\n",
              "      <td>0.102</td>\n",
              "      <td>0.319</td>\n",
              "    </tr>\n",
              "    <tr>\n",
              "      <th>9</th>\n",
              "      <td>Other_Sales</td>\n",
              "      <td>NA_Sales</td>\n",
              "      <td>0.024</td>\n",
              "      <td>0.154</td>\n",
              "    </tr>\n",
              "    <tr>\n",
              "      <th>10</th>\n",
              "      <td>Other_Sales</td>\n",
              "      <td>EU_Sales</td>\n",
              "      <td>0.017</td>\n",
              "      <td>0.130</td>\n",
              "    </tr>\n",
              "    <tr>\n",
              "      <th>11</th>\n",
              "      <td>Other_Sales</td>\n",
              "      <td>JP_Sales</td>\n",
              "      <td>0.031</td>\n",
              "      <td>0.176</td>\n",
              "    </tr>\n",
              "    <tr>\n",
              "      <th>12</th>\n",
              "      <td>Other_Sales</td>\n",
              "      <td>JP_Sales</td>\n",
              "      <td>0.031</td>\n",
              "      <td>0.176</td>\n",
              "    </tr>\n",
              "  </tbody>\n",
              "</table>\n",
              "</div>\n",
              "      <button class=\"colab-df-convert\" onclick=\"convertToInteractive('df-0e8bb800-95c3-4402-b236-7e4d3a0cb917')\"\n",
              "              title=\"Convert this dataframe to an interactive table.\"\n",
              "              style=\"display:none;\">\n",
              "        \n",
              "  <svg xmlns=\"http://www.w3.org/2000/svg\" height=\"24px\"viewBox=\"0 0 24 24\"\n",
              "       width=\"24px\">\n",
              "    <path d=\"M0 0h24v24H0V0z\" fill=\"none\"/>\n",
              "    <path d=\"M18.56 5.44l.94 2.06.94-2.06 2.06-.94-2.06-.94-.94-2.06-.94 2.06-2.06.94zm-11 1L8.5 8.5l.94-2.06 2.06-.94-2.06-.94L8.5 2.5l-.94 2.06-2.06.94zm10 10l.94 2.06.94-2.06 2.06-.94-2.06-.94-.94-2.06-.94 2.06-2.06.94z\"/><path d=\"M17.41 7.96l-1.37-1.37c-.4-.4-.92-.59-1.43-.59-.52 0-1.04.2-1.43.59L10.3 9.45l-7.72 7.72c-.78.78-.78 2.05 0 2.83L4 21.41c.39.39.9.59 1.41.59.51 0 1.02-.2 1.41-.59l7.78-7.78 2.81-2.81c.8-.78.8-2.07 0-2.86zM5.41 20L4 18.59l7.72-7.72 1.47 1.35L5.41 20z\"/>\n",
              "  </svg>\n",
              "      </button>\n",
              "      \n",
              "  <style>\n",
              "    .colab-df-container {\n",
              "      display:flex;\n",
              "      flex-wrap:wrap;\n",
              "      gap: 12px;\n",
              "    }\n",
              "\n",
              "    .colab-df-convert {\n",
              "      background-color: #E8F0FE;\n",
              "      border: none;\n",
              "      border-radius: 50%;\n",
              "      cursor: pointer;\n",
              "      display: none;\n",
              "      fill: #1967D2;\n",
              "      height: 32px;\n",
              "      padding: 0 0 0 0;\n",
              "      width: 32px;\n",
              "    }\n",
              "\n",
              "    .colab-df-convert:hover {\n",
              "      background-color: #E2EBFA;\n",
              "      box-shadow: 0px 1px 2px rgba(60, 64, 67, 0.3), 0px 1px 3px 1px rgba(60, 64, 67, 0.15);\n",
              "      fill: #174EA6;\n",
              "    }\n",
              "\n",
              "    [theme=dark] .colab-df-convert {\n",
              "      background-color: #3B4455;\n",
              "      fill: #D2E3FC;\n",
              "    }\n",
              "\n",
              "    [theme=dark] .colab-df-convert:hover {\n",
              "      background-color: #434B5C;\n",
              "      box-shadow: 0px 1px 3px 1px rgba(0, 0, 0, 0.15);\n",
              "      filter: drop-shadow(0px 1px 2px rgba(0, 0, 0, 0.3));\n",
              "      fill: #FFFFFF;\n",
              "    }\n",
              "  </style>\n",
              "\n",
              "      <script>\n",
              "        const buttonEl =\n",
              "          document.querySelector('#df-0e8bb800-95c3-4402-b236-7e4d3a0cb917 button.colab-df-convert');\n",
              "        buttonEl.style.display =\n",
              "          google.colab.kernel.accessAllowed ? 'block' : 'none';\n",
              "\n",
              "        async function convertToInteractive(key) {\n",
              "          const element = document.querySelector('#df-0e8bb800-95c3-4402-b236-7e4d3a0cb917');\n",
              "          const dataTable =\n",
              "            await google.colab.kernel.invokeFunction('convertToInteractive',\n",
              "                                                     [key], {});\n",
              "          if (!dataTable) return;\n",
              "\n",
              "          const docLinkHtml = 'Like what you see? Visit the ' +\n",
              "            '<a target=\"_blank\" href=https://colab.research.google.com/notebooks/data_table.ipynb>data table notebook</a>'\n",
              "            + ' to learn more about interactive tables.';\n",
              "          element.innerHTML = '';\n",
              "          dataTable['output_type'] = 'display_data';\n",
              "          await google.colab.output.renderOutput(dataTable, element);\n",
              "          const docLink = document.createElement('div');\n",
              "          docLink.innerHTML = docLinkHtml;\n",
              "          element.appendChild(docLink);\n",
              "        }\n",
              "      </script>\n",
              "    </div>\n",
              "  </div>\n",
              "  "
            ]
          },
          "metadata": {},
          "execution_count": 31
        }
      ]
    },
    {
      "cell_type": "markdown",
      "source": [
        "<h1>Linear Regression</h1>\n",
        "\n",
        "<p>We will take a look at how well linear regression performs in order to see if it offers any advantages over kNN.<p>"
      ],
      "metadata": {
        "id": "viKC4-C3Ru-G"
      }
    },
    {
      "cell_type": "code",
      "source": [
        "def lr_region_sale_predict(target, predictors, tbl):\n",
        "  X = tbl[predictors].values\n",
        "  y = tbl[target].values\n",
        "\n",
        "  X_train, X_test, y_train, y_test = train_test_split(X, y, test_size=0.30, random_state=42)\n",
        "\n",
        "  reg = LinearRegression()\n",
        "  reg.fit(X_train, y_train)\n",
        "  predicted = reg.predict(X_test)\n",
        "\n",
        "  actual = y_test\n",
        "\n",
        "  MSE = ((predicted - actual)**2).mean()\n",
        "  RMSE = np.sqrt(MSE)\n",
        "\n",
        "  return MSE, RMSE\n",
        "\n",
        "regions = ['NA_Sales', 'EU_Sales', 'JP_Sales', 'Other_Sales']\n",
        "lr_region_results = pd.DataFrame({'region_target':[], 'region_source':[], 'mse':[], 'rmse':[]})\n",
        "for region in regions:\n",
        "  for region2 in regions:\n",
        "    if region != region2:\n",
        "      predictors = np.array([region2])\n",
        "      \n",
        "      mse, rmse = lr_region_sale_predict(region, [region2, 'Genre_Adventure', 'Genre_Fighting', 'Genre_Misc', 'Genre_Platform',\n",
        "              'Genre_Puzzle', 'Genre_Racing', 'Genre_Role-Playing', 'Genre_Shooter',\n",
        "              'Genre_Simulation', 'Genre_Sports', 'Genre_Strategy'], tbl)\n",
        "\n",
        "      lr_region_results = lr_region_results.append({'region_target':region, 'region_source':region2, 'mse':mse.round(3), 'rmse':rmse.round(3)}, ignore_index=True)\n",
        "      print('{} predicted sales based on {} known sales: MSE {}, RMSE {}'.format(region, region2, mse.round(3), rmse.round(3)))"
      ],
      "metadata": {
        "colab": {
          "base_uri": "https://localhost:8080/"
        },
        "id": "B8X7GLrXHBN0",
        "outputId": "651c0b8d-7fb1-47e4-e96b-03d9a5a0ce0a"
      },
      "execution_count": null,
      "outputs": [
        {
          "output_type": "stream",
          "name": "stdout",
          "text": [
            "NA_Sales predicted sales based on EU_Sales known sales: MSE 0.412, RMSE 0.642\n",
            "NA_Sales predicted sales based on JP_Sales known sales: MSE 0.542, RMSE 0.737\n",
            "NA_Sales predicted sales based on Other_Sales known sales: MSE 0.532, RMSE 0.73\n",
            "EU_Sales predicted sales based on NA_Sales known sales: MSE 0.131, RMSE 0.362\n",
            "EU_Sales predicted sales based on JP_Sales known sales: MSE 0.157, RMSE 0.396\n",
            "EU_Sales predicted sales based on Other_Sales known sales: MSE 0.107, RMSE 0.327\n",
            "JP_Sales predicted sales based on NA_Sales known sales: MSE 0.083, RMSE 0.289\n",
            "JP_Sales predicted sales based on EU_Sales known sales: MSE 0.086, RMSE 0.293\n",
            "JP_Sales predicted sales based on Other_Sales known sales: MSE 0.098, RMSE 0.313\n",
            "Other_Sales predicted sales based on NA_Sales known sales: MSE 0.026, RMSE 0.16\n",
            "Other_Sales predicted sales based on EU_Sales known sales: MSE 0.017, RMSE 0.13\n",
            "Other_Sales predicted sales based on JP_Sales known sales: MSE 0.028, RMSE 0.168\n"
          ]
        }
      ]
    },
    {
      "cell_type": "code",
      "source": [
        "lr_region_results"
      ],
      "metadata": {
        "colab": {
          "base_uri": "https://localhost:8080/",
          "height": 421
        },
        "id": "aUvF692wS2tp",
        "outputId": "15a55f22-20d2-4f8a-9cab-02a8389aa984"
      },
      "execution_count": null,
      "outputs": [
        {
          "output_type": "execute_result",
          "data": {
            "text/plain": [
              "   region_target region_source    mse   rmse\n",
              "0       NA_Sales      EU_Sales  0.412  0.642\n",
              "1       NA_Sales      JP_Sales  0.542  0.737\n",
              "2       NA_Sales   Other_Sales  0.532  0.730\n",
              "3       EU_Sales      NA_Sales  0.131  0.362\n",
              "4       EU_Sales      JP_Sales  0.157  0.396\n",
              "5       EU_Sales   Other_Sales  0.107  0.327\n",
              "6       JP_Sales      NA_Sales  0.083  0.289\n",
              "7       JP_Sales      EU_Sales  0.086  0.293\n",
              "8       JP_Sales   Other_Sales  0.098  0.313\n",
              "9    Other_Sales      NA_Sales  0.026  0.160\n",
              "10   Other_Sales      EU_Sales  0.017  0.130\n",
              "11   Other_Sales      JP_Sales  0.028  0.168"
            ],
            "text/html": [
              "\n",
              "  <div id=\"df-eeb0df41-1cd8-48e4-a199-ec562355202a\">\n",
              "    <div class=\"colab-df-container\">\n",
              "      <div>\n",
              "<style scoped>\n",
              "    .dataframe tbody tr th:only-of-type {\n",
              "        vertical-align: middle;\n",
              "    }\n",
              "\n",
              "    .dataframe tbody tr th {\n",
              "        vertical-align: top;\n",
              "    }\n",
              "\n",
              "    .dataframe thead th {\n",
              "        text-align: right;\n",
              "    }\n",
              "</style>\n",
              "<table border=\"1\" class=\"dataframe\">\n",
              "  <thead>\n",
              "    <tr style=\"text-align: right;\">\n",
              "      <th></th>\n",
              "      <th>region_target</th>\n",
              "      <th>region_source</th>\n",
              "      <th>mse</th>\n",
              "      <th>rmse</th>\n",
              "    </tr>\n",
              "  </thead>\n",
              "  <tbody>\n",
              "    <tr>\n",
              "      <th>0</th>\n",
              "      <td>NA_Sales</td>\n",
              "      <td>EU_Sales</td>\n",
              "      <td>0.412</td>\n",
              "      <td>0.642</td>\n",
              "    </tr>\n",
              "    <tr>\n",
              "      <th>1</th>\n",
              "      <td>NA_Sales</td>\n",
              "      <td>JP_Sales</td>\n",
              "      <td>0.542</td>\n",
              "      <td>0.737</td>\n",
              "    </tr>\n",
              "    <tr>\n",
              "      <th>2</th>\n",
              "      <td>NA_Sales</td>\n",
              "      <td>Other_Sales</td>\n",
              "      <td>0.532</td>\n",
              "      <td>0.730</td>\n",
              "    </tr>\n",
              "    <tr>\n",
              "      <th>3</th>\n",
              "      <td>EU_Sales</td>\n",
              "      <td>NA_Sales</td>\n",
              "      <td>0.131</td>\n",
              "      <td>0.362</td>\n",
              "    </tr>\n",
              "    <tr>\n",
              "      <th>4</th>\n",
              "      <td>EU_Sales</td>\n",
              "      <td>JP_Sales</td>\n",
              "      <td>0.157</td>\n",
              "      <td>0.396</td>\n",
              "    </tr>\n",
              "    <tr>\n",
              "      <th>5</th>\n",
              "      <td>EU_Sales</td>\n",
              "      <td>Other_Sales</td>\n",
              "      <td>0.107</td>\n",
              "      <td>0.327</td>\n",
              "    </tr>\n",
              "    <tr>\n",
              "      <th>6</th>\n",
              "      <td>JP_Sales</td>\n",
              "      <td>NA_Sales</td>\n",
              "      <td>0.083</td>\n",
              "      <td>0.289</td>\n",
              "    </tr>\n",
              "    <tr>\n",
              "      <th>7</th>\n",
              "      <td>JP_Sales</td>\n",
              "      <td>EU_Sales</td>\n",
              "      <td>0.086</td>\n",
              "      <td>0.293</td>\n",
              "    </tr>\n",
              "    <tr>\n",
              "      <th>8</th>\n",
              "      <td>JP_Sales</td>\n",
              "      <td>Other_Sales</td>\n",
              "      <td>0.098</td>\n",
              "      <td>0.313</td>\n",
              "    </tr>\n",
              "    <tr>\n",
              "      <th>9</th>\n",
              "      <td>Other_Sales</td>\n",
              "      <td>NA_Sales</td>\n",
              "      <td>0.026</td>\n",
              "      <td>0.160</td>\n",
              "    </tr>\n",
              "    <tr>\n",
              "      <th>10</th>\n",
              "      <td>Other_Sales</td>\n",
              "      <td>EU_Sales</td>\n",
              "      <td>0.017</td>\n",
              "      <td>0.130</td>\n",
              "    </tr>\n",
              "    <tr>\n",
              "      <th>11</th>\n",
              "      <td>Other_Sales</td>\n",
              "      <td>JP_Sales</td>\n",
              "      <td>0.028</td>\n",
              "      <td>0.168</td>\n",
              "    </tr>\n",
              "  </tbody>\n",
              "</table>\n",
              "</div>\n",
              "      <button class=\"colab-df-convert\" onclick=\"convertToInteractive('df-eeb0df41-1cd8-48e4-a199-ec562355202a')\"\n",
              "              title=\"Convert this dataframe to an interactive table.\"\n",
              "              style=\"display:none;\">\n",
              "        \n",
              "  <svg xmlns=\"http://www.w3.org/2000/svg\" height=\"24px\"viewBox=\"0 0 24 24\"\n",
              "       width=\"24px\">\n",
              "    <path d=\"M0 0h24v24H0V0z\" fill=\"none\"/>\n",
              "    <path d=\"M18.56 5.44l.94 2.06.94-2.06 2.06-.94-2.06-.94-.94-2.06-.94 2.06-2.06.94zm-11 1L8.5 8.5l.94-2.06 2.06-.94-2.06-.94L8.5 2.5l-.94 2.06-2.06.94zm10 10l.94 2.06.94-2.06 2.06-.94-2.06-.94-.94-2.06-.94 2.06-2.06.94z\"/><path d=\"M17.41 7.96l-1.37-1.37c-.4-.4-.92-.59-1.43-.59-.52 0-1.04.2-1.43.59L10.3 9.45l-7.72 7.72c-.78.78-.78 2.05 0 2.83L4 21.41c.39.39.9.59 1.41.59.51 0 1.02-.2 1.41-.59l7.78-7.78 2.81-2.81c.8-.78.8-2.07 0-2.86zM5.41 20L4 18.59l7.72-7.72 1.47 1.35L5.41 20z\"/>\n",
              "  </svg>\n",
              "      </button>\n",
              "      \n",
              "  <style>\n",
              "    .colab-df-container {\n",
              "      display:flex;\n",
              "      flex-wrap:wrap;\n",
              "      gap: 12px;\n",
              "    }\n",
              "\n",
              "    .colab-df-convert {\n",
              "      background-color: #E8F0FE;\n",
              "      border: none;\n",
              "      border-radius: 50%;\n",
              "      cursor: pointer;\n",
              "      display: none;\n",
              "      fill: #1967D2;\n",
              "      height: 32px;\n",
              "      padding: 0 0 0 0;\n",
              "      width: 32px;\n",
              "    }\n",
              "\n",
              "    .colab-df-convert:hover {\n",
              "      background-color: #E2EBFA;\n",
              "      box-shadow: 0px 1px 2px rgba(60, 64, 67, 0.3), 0px 1px 3px 1px rgba(60, 64, 67, 0.15);\n",
              "      fill: #174EA6;\n",
              "    }\n",
              "\n",
              "    [theme=dark] .colab-df-convert {\n",
              "      background-color: #3B4455;\n",
              "      fill: #D2E3FC;\n",
              "    }\n",
              "\n",
              "    [theme=dark] .colab-df-convert:hover {\n",
              "      background-color: #434B5C;\n",
              "      box-shadow: 0px 1px 3px 1px rgba(0, 0, 0, 0.15);\n",
              "      filter: drop-shadow(0px 1px 2px rgba(0, 0, 0, 0.3));\n",
              "      fill: #FFFFFF;\n",
              "    }\n",
              "  </style>\n",
              "\n",
              "      <script>\n",
              "        const buttonEl =\n",
              "          document.querySelector('#df-eeb0df41-1cd8-48e4-a199-ec562355202a button.colab-df-convert');\n",
              "        buttonEl.style.display =\n",
              "          google.colab.kernel.accessAllowed ? 'block' : 'none';\n",
              "\n",
              "        async function convertToInteractive(key) {\n",
              "          const element = document.querySelector('#df-eeb0df41-1cd8-48e4-a199-ec562355202a');\n",
              "          const dataTable =\n",
              "            await google.colab.kernel.invokeFunction('convertToInteractive',\n",
              "                                                     [key], {});\n",
              "          if (!dataTable) return;\n",
              "\n",
              "          const docLinkHtml = 'Like what you see? Visit the ' +\n",
              "            '<a target=\"_blank\" href=https://colab.research.google.com/notebooks/data_table.ipynb>data table notebook</a>'\n",
              "            + ' to learn more about interactive tables.';\n",
              "          element.innerHTML = '';\n",
              "          dataTable['output_type'] = 'display_data';\n",
              "          await google.colab.output.renderOutput(dataTable, element);\n",
              "          const docLink = document.createElement('div');\n",
              "          docLink.innerHTML = docLinkHtml;\n",
              "          element.appendChild(docLink);\n",
              "        }\n",
              "      </script>\n",
              "    </div>\n",
              "  </div>\n",
              "  "
            ]
          },
          "metadata": {},
          "execution_count": 33
        }
      ]
    },
    {
      "cell_type": "markdown",
      "source": [
        "<h1>Linear And KNN Regression MSE And RMSE Differences</h1>\n",
        "<p>We can see that there is only negligible difference between linear regression and kNN MSE/RMSE values.<p>"
      ],
      "metadata": {
        "id": "QVBc1UwpUzRW"
      }
    },
    {
      "cell_type": "code",
      "source": [
        "differences = lr_region_results.copy()\n",
        "differences['mse'] = lr_region_results['mse'] - region_results['mse']\n",
        "differences['rmse'] = lr_region_results['rmse'] - region_results['rmse']\n",
        "differences"
      ],
      "metadata": {
        "colab": {
          "base_uri": "https://localhost:8080/",
          "height": 421
        },
        "id": "RPVDncZxTWcM",
        "outputId": "90b3547e-8551-4a17-ae4d-95c04dc6f173"
      },
      "execution_count": null,
      "outputs": [
        {
          "output_type": "execute_result",
          "data": {
            "text/plain": [
              "   region_target region_source    mse   rmse\n",
              "0       NA_Sales      EU_Sales  0.034  0.027\n",
              "1       NA_Sales      JP_Sales -0.021 -0.013\n",
              "2       NA_Sales   Other_Sales  0.064  0.046\n",
              "3       EU_Sales      NA_Sales  0.034  0.050\n",
              "4       EU_Sales      JP_Sales -0.016 -0.020\n",
              "5       EU_Sales   Other_Sales  0.035  0.058\n",
              "6       JP_Sales      NA_Sales  0.005  0.010\n",
              "7       JP_Sales      EU_Sales  0.007  0.012\n",
              "8       JP_Sales   Other_Sales -0.004 -0.006\n",
              "9    Other_Sales      NA_Sales  0.002  0.006\n",
              "10   Other_Sales      EU_Sales  0.000  0.000\n",
              "11   Other_Sales      JP_Sales -0.003 -0.008"
            ],
            "text/html": [
              "\n",
              "  <div id=\"df-25942d24-991b-4bab-b68d-f9355227ef80\">\n",
              "    <div class=\"colab-df-container\">\n",
              "      <div>\n",
              "<style scoped>\n",
              "    .dataframe tbody tr th:only-of-type {\n",
              "        vertical-align: middle;\n",
              "    }\n",
              "\n",
              "    .dataframe tbody tr th {\n",
              "        vertical-align: top;\n",
              "    }\n",
              "\n",
              "    .dataframe thead th {\n",
              "        text-align: right;\n",
              "    }\n",
              "</style>\n",
              "<table border=\"1\" class=\"dataframe\">\n",
              "  <thead>\n",
              "    <tr style=\"text-align: right;\">\n",
              "      <th></th>\n",
              "      <th>region_target</th>\n",
              "      <th>region_source</th>\n",
              "      <th>mse</th>\n",
              "      <th>rmse</th>\n",
              "    </tr>\n",
              "  </thead>\n",
              "  <tbody>\n",
              "    <tr>\n",
              "      <th>0</th>\n",
              "      <td>NA_Sales</td>\n",
              "      <td>EU_Sales</td>\n",
              "      <td>0.034</td>\n",
              "      <td>0.027</td>\n",
              "    </tr>\n",
              "    <tr>\n",
              "      <th>1</th>\n",
              "      <td>NA_Sales</td>\n",
              "      <td>JP_Sales</td>\n",
              "      <td>-0.021</td>\n",
              "      <td>-0.013</td>\n",
              "    </tr>\n",
              "    <tr>\n",
              "      <th>2</th>\n",
              "      <td>NA_Sales</td>\n",
              "      <td>Other_Sales</td>\n",
              "      <td>0.064</td>\n",
              "      <td>0.046</td>\n",
              "    </tr>\n",
              "    <tr>\n",
              "      <th>3</th>\n",
              "      <td>EU_Sales</td>\n",
              "      <td>NA_Sales</td>\n",
              "      <td>0.034</td>\n",
              "      <td>0.050</td>\n",
              "    </tr>\n",
              "    <tr>\n",
              "      <th>4</th>\n",
              "      <td>EU_Sales</td>\n",
              "      <td>JP_Sales</td>\n",
              "      <td>-0.016</td>\n",
              "      <td>-0.020</td>\n",
              "    </tr>\n",
              "    <tr>\n",
              "      <th>5</th>\n",
              "      <td>EU_Sales</td>\n",
              "      <td>Other_Sales</td>\n",
              "      <td>0.035</td>\n",
              "      <td>0.058</td>\n",
              "    </tr>\n",
              "    <tr>\n",
              "      <th>6</th>\n",
              "      <td>JP_Sales</td>\n",
              "      <td>NA_Sales</td>\n",
              "      <td>0.005</td>\n",
              "      <td>0.010</td>\n",
              "    </tr>\n",
              "    <tr>\n",
              "      <th>7</th>\n",
              "      <td>JP_Sales</td>\n",
              "      <td>EU_Sales</td>\n",
              "      <td>0.007</td>\n",
              "      <td>0.012</td>\n",
              "    </tr>\n",
              "    <tr>\n",
              "      <th>8</th>\n",
              "      <td>JP_Sales</td>\n",
              "      <td>Other_Sales</td>\n",
              "      <td>-0.004</td>\n",
              "      <td>-0.006</td>\n",
              "    </tr>\n",
              "    <tr>\n",
              "      <th>9</th>\n",
              "      <td>Other_Sales</td>\n",
              "      <td>NA_Sales</td>\n",
              "      <td>0.002</td>\n",
              "      <td>0.006</td>\n",
              "    </tr>\n",
              "    <tr>\n",
              "      <th>10</th>\n",
              "      <td>Other_Sales</td>\n",
              "      <td>EU_Sales</td>\n",
              "      <td>0.000</td>\n",
              "      <td>0.000</td>\n",
              "    </tr>\n",
              "    <tr>\n",
              "      <th>11</th>\n",
              "      <td>Other_Sales</td>\n",
              "      <td>JP_Sales</td>\n",
              "      <td>-0.003</td>\n",
              "      <td>-0.008</td>\n",
              "    </tr>\n",
              "  </tbody>\n",
              "</table>\n",
              "</div>\n",
              "      <button class=\"colab-df-convert\" onclick=\"convertToInteractive('df-25942d24-991b-4bab-b68d-f9355227ef80')\"\n",
              "              title=\"Convert this dataframe to an interactive table.\"\n",
              "              style=\"display:none;\">\n",
              "        \n",
              "  <svg xmlns=\"http://www.w3.org/2000/svg\" height=\"24px\"viewBox=\"0 0 24 24\"\n",
              "       width=\"24px\">\n",
              "    <path d=\"M0 0h24v24H0V0z\" fill=\"none\"/>\n",
              "    <path d=\"M18.56 5.44l.94 2.06.94-2.06 2.06-.94-2.06-.94-.94-2.06-.94 2.06-2.06.94zm-11 1L8.5 8.5l.94-2.06 2.06-.94-2.06-.94L8.5 2.5l-.94 2.06-2.06.94zm10 10l.94 2.06.94-2.06 2.06-.94-2.06-.94-.94-2.06-.94 2.06-2.06.94z\"/><path d=\"M17.41 7.96l-1.37-1.37c-.4-.4-.92-.59-1.43-.59-.52 0-1.04.2-1.43.59L10.3 9.45l-7.72 7.72c-.78.78-.78 2.05 0 2.83L4 21.41c.39.39.9.59 1.41.59.51 0 1.02-.2 1.41-.59l7.78-7.78 2.81-2.81c.8-.78.8-2.07 0-2.86zM5.41 20L4 18.59l7.72-7.72 1.47 1.35L5.41 20z\"/>\n",
              "  </svg>\n",
              "      </button>\n",
              "      \n",
              "  <style>\n",
              "    .colab-df-container {\n",
              "      display:flex;\n",
              "      flex-wrap:wrap;\n",
              "      gap: 12px;\n",
              "    }\n",
              "\n",
              "    .colab-df-convert {\n",
              "      background-color: #E8F0FE;\n",
              "      border: none;\n",
              "      border-radius: 50%;\n",
              "      cursor: pointer;\n",
              "      display: none;\n",
              "      fill: #1967D2;\n",
              "      height: 32px;\n",
              "      padding: 0 0 0 0;\n",
              "      width: 32px;\n",
              "    }\n",
              "\n",
              "    .colab-df-convert:hover {\n",
              "      background-color: #E2EBFA;\n",
              "      box-shadow: 0px 1px 2px rgba(60, 64, 67, 0.3), 0px 1px 3px 1px rgba(60, 64, 67, 0.15);\n",
              "      fill: #174EA6;\n",
              "    }\n",
              "\n",
              "    [theme=dark] .colab-df-convert {\n",
              "      background-color: #3B4455;\n",
              "      fill: #D2E3FC;\n",
              "    }\n",
              "\n",
              "    [theme=dark] .colab-df-convert:hover {\n",
              "      background-color: #434B5C;\n",
              "      box-shadow: 0px 1px 3px 1px rgba(0, 0, 0, 0.15);\n",
              "      filter: drop-shadow(0px 1px 2px rgba(0, 0, 0, 0.3));\n",
              "      fill: #FFFFFF;\n",
              "    }\n",
              "  </style>\n",
              "\n",
              "      <script>\n",
              "        const buttonEl =\n",
              "          document.querySelector('#df-25942d24-991b-4bab-b68d-f9355227ef80 button.colab-df-convert');\n",
              "        buttonEl.style.display =\n",
              "          google.colab.kernel.accessAllowed ? 'block' : 'none';\n",
              "\n",
              "        async function convertToInteractive(key) {\n",
              "          const element = document.querySelector('#df-25942d24-991b-4bab-b68d-f9355227ef80');\n",
              "          const dataTable =\n",
              "            await google.colab.kernel.invokeFunction('convertToInteractive',\n",
              "                                                     [key], {});\n",
              "          if (!dataTable) return;\n",
              "\n",
              "          const docLinkHtml = 'Like what you see? Visit the ' +\n",
              "            '<a target=\"_blank\" href=https://colab.research.google.com/notebooks/data_table.ipynb>data table notebook</a>'\n",
              "            + ' to learn more about interactive tables.';\n",
              "          element.innerHTML = '';\n",
              "          dataTable['output_type'] = 'display_data';\n",
              "          await google.colab.output.renderOutput(dataTable, element);\n",
              "          const docLink = document.createElement('div');\n",
              "          docLink.innerHTML = docLinkHtml;\n",
              "          element.appendChild(docLink);\n",
              "        }\n",
              "      </script>\n",
              "    </div>\n",
              "  </div>\n",
              "  "
            ]
          },
          "metadata": {},
          "execution_count": 34
        }
      ]
    },
    {
      "cell_type": "markdown",
      "source": [
        "<h1><b>Results</b></h1>\n",
        "<p>We were able to predict the sales of video games in one region based on the sales data in another region. One of the best predictions with the lowest RMSE values was the impact the sales in Europe have on the Other region. Testing the KNN Regression model with different values of k had little impact on the RMSE value. (In our report we have provided the default with k =5 and uniform weight along with another with k=9 and distance weight.) If there were more features, an improvement in MSE and RMSE could be achieved. <br>"
      ],
      "metadata": {
        "id": "DLAVyW7lzJXX"
      }
    },
    {
      "cell_type": "markdown",
      "source": [
        "<h1><b>Discussion</b></h1>\n",
        "\n",
        "<p>\n",
        "A lot of the predictions that we found have lots of correlations to one another.\n",
        "One of the comparisons that we can see between each of the different regions.\n",
        "Most notably, when it comes to Europe and North America which share the same interests in terms of genre. Due to these similarities, we can easily determine the North American sales with the Europe sales. However, that does not work vice versa. Instead of being able to determine the Europe sales with North America, we are able to determine this through Other region sales. However, since RPG's tend to dominate the Japanese market and a similar interest here in North America we can predict the Japanese market sales with North America.\n",
        "</p>"
      ],
      "metadata": {
        "id": "r8A-_WYbMDvE"
      }
    },
    {
      "cell_type": "markdown",
      "source": [
        "<h1><b>Summary</b></h1>\n",
        "<p>The most important findings would be the bar plots of the KNN Regression results that show the impact of sales from other regions. One interesting observation is there seems to be a quality factor that contributes to the amount of money a game can bring in. For example, the first pie chart shows Sports with the most number of sales but Platform games bring in the most money as shown in the subsequent pie chart. The support for this is not conclusive because there could have been games where the cost was high and consumers were still willing to pay the price even if the game turned out to be bad. It would be interesting to see a feature added for the number of video games where a refund was given or use the critic score feature. This would do a better job of proving price equals quality.</p>\n"
      ],
      "metadata": {
        "id": "j8-yyaX4vtlG"
      }
    }
  ]
}